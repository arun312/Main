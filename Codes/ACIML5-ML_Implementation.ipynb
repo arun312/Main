{
 "cells": [
  {
   "cell_type": "code",
   "execution_count": 1,
   "metadata": {},
   "outputs": [],
   "source": [
    "#Libraries\n",
    "import numpy as np\n",
    "import pandas as pd\n",
    "from sklearn.model_selection import train_test_split\n",
    "import warnings\n",
    "warnings.filterwarnings('ignore')"
   ]
  },
  {
   "attachments": {},
   "cell_type": "markdown",
   "metadata": {},
   "source": [
    "## Data Preparation"
   ]
  },
  {
   "cell_type": "code",
   "execution_count": 2,
   "metadata": {},
   "outputs": [],
   "source": [
    "#Loading Data\n",
    "DATA=pd.read_excel(r'../../Datasets/ML2-PreMon.xlsx',sheet_name='Sheet1')\n",
    "y=pd.Series(DATA.LWP)\n",
    "X=DATA.loc[:,~DATA.columns.isin(['LWP'])]#Select Everything Other than LWP\n",
    "\n",
    "#Split dataset into training set and test set\n",
    "X_train,X_test,y_train,y_test=train_test_split(X,y,test_size=0.3)#80% training and 20% test"
   ]
  },
  {
   "cell_type": "code",
   "execution_count": 67,
   "metadata": {},
   "outputs": [
    {
     "data": {
      "text/html": [
       "<div>\n",
       "<style scoped>\n",
       "    .dataframe tbody tr th:only-of-type {\n",
       "        vertical-align: middle;\n",
       "    }\n",
       "\n",
       "    .dataframe tbody tr th {\n",
       "        vertical-align: top;\n",
       "    }\n",
       "\n",
       "    .dataframe thead th {\n",
       "        text-align: right;\n",
       "    }\n",
       "</style>\n",
       "<table border=\"1\" class=\"dataframe\">\n",
       "  <thead>\n",
       "    <tr style=\"text-align: right;\">\n",
       "      <th></th>\n",
       "      <th>PBLH</th>\n",
       "      <th>RH</th>\n",
       "      <th>WindDirection-850</th>\n",
       "      <th>MeanWind-850</th>\n",
       "      <th>V-850</th>\n",
       "      <th>SMOKE-AOD</th>\n",
       "      <th>DUST-AOD</th>\n",
       "      <th>PrecipitableVapour</th>\n",
       "      <th>PrecidCal</th>\n",
       "      <th>LTS</th>\n",
       "      <th>Nd</th>\n",
       "      <th>LWP</th>\n",
       "    </tr>\n",
       "  </thead>\n",
       "  <tbody>\n",
       "    <tr>\n",
       "      <th>0</th>\n",
       "      <td>724.208728</td>\n",
       "      <td>33.209657</td>\n",
       "      <td>283.306357</td>\n",
       "      <td>9.374429</td>\n",
       "      <td>0.058580</td>\n",
       "      <td>0.177522</td>\n",
       "      <td>0.054197</td>\n",
       "      <td>3.24450</td>\n",
       "      <td>0.064389</td>\n",
       "      <td>14.011322</td>\n",
       "      <td>45.087664</td>\n",
       "      <td>9.75</td>\n",
       "    </tr>\n",
       "    <tr>\n",
       "      <th>1</th>\n",
       "      <td>724.625391</td>\n",
       "      <td>35.340314</td>\n",
       "      <td>280.441298</td>\n",
       "      <td>9.143348</td>\n",
       "      <td>0.082056</td>\n",
       "      <td>0.189754</td>\n",
       "      <td>0.065570</td>\n",
       "      <td>3.05550</td>\n",
       "      <td>0.134013</td>\n",
       "      <td>13.792267</td>\n",
       "      <td>25.081423</td>\n",
       "      <td>10.75</td>\n",
       "    </tr>\n",
       "    <tr>\n",
       "      <th>2</th>\n",
       "      <td>636.185706</td>\n",
       "      <td>35.371513</td>\n",
       "      <td>284.427631</td>\n",
       "      <td>7.089826</td>\n",
       "      <td>0.067495</td>\n",
       "      <td>0.183994</td>\n",
       "      <td>0.052897</td>\n",
       "      <td>3.02275</td>\n",
       "      <td>0.000000</td>\n",
       "      <td>13.880829</td>\n",
       "      <td>20.189200</td>\n",
       "      <td>9.25</td>\n",
       "    </tr>\n",
       "    <tr>\n",
       "      <th>3</th>\n",
       "      <td>609.739880</td>\n",
       "      <td>36.337872</td>\n",
       "      <td>316.275613</td>\n",
       "      <td>4.393169</td>\n",
       "      <td>0.055905</td>\n",
       "      <td>0.127734</td>\n",
       "      <td>0.050990</td>\n",
       "      <td>3.65400</td>\n",
       "      <td>0.000000</td>\n",
       "      <td>13.435699</td>\n",
       "      <td>27.442801</td>\n",
       "      <td>52.50</td>\n",
       "    </tr>\n",
       "    <tr>\n",
       "      <th>4</th>\n",
       "      <td>590.828455</td>\n",
       "      <td>30.572250</td>\n",
       "      <td>308.161604</td>\n",
       "      <td>4.369788</td>\n",
       "      <td>0.063334</td>\n",
       "      <td>0.125449</td>\n",
       "      <td>0.050004</td>\n",
       "      <td>3.58500</td>\n",
       "      <td>0.000000</td>\n",
       "      <td>13.518738</td>\n",
       "      <td>20.332886</td>\n",
       "      <td>26.25</td>\n",
       "    </tr>\n",
       "  </tbody>\n",
       "</table>\n",
       "</div>"
      ],
      "text/plain": [
       "         PBLH         RH  WindDirection-850  MeanWind-850     V-850  \\\n",
       "0  724.208728  33.209657         283.306357      9.374429  0.058580   \n",
       "1  724.625391  35.340314         280.441298      9.143348  0.082056   \n",
       "2  636.185706  35.371513         284.427631      7.089826  0.067495   \n",
       "3  609.739880  36.337872         316.275613      4.393169  0.055905   \n",
       "4  590.828455  30.572250         308.161604      4.369788  0.063334   \n",
       "\n",
       "   SMOKE-AOD  DUST-AOD  PrecipitableVapour  PrecidCal        LTS         Nd  \\\n",
       "0   0.177522  0.054197             3.24450   0.064389  14.011322  45.087664   \n",
       "1   0.189754  0.065570             3.05550   0.134013  13.792267  25.081423   \n",
       "2   0.183994  0.052897             3.02275   0.000000  13.880829  20.189200   \n",
       "3   0.127734  0.050990             3.65400   0.000000  13.435699  27.442801   \n",
       "4   0.125449  0.050004             3.58500   0.000000  13.518738  20.332886   \n",
       "\n",
       "     LWP  \n",
       "0   9.75  \n",
       "1  10.75  \n",
       "2   9.25  \n",
       "3  52.50  \n",
       "4  26.25  "
      ]
     },
     "execution_count": 67,
     "metadata": {},
     "output_type": "execute_result"
    }
   ],
   "source": [
    "DATA.head()"
   ]
  },
  {
   "attachments": {},
   "cell_type": "markdown",
   "metadata": {},
   "source": [
    "## Model training"
   ]
  },
  {
   "attachments": {},
   "cell_type": "markdown",
   "metadata": {},
   "source": [
    "### For GBRT"
   ]
  },
  {
   "cell_type": "code",
   "execution_count": 40,
   "metadata": {},
   "outputs": [
    {
     "name": "stdout",
     "output_type": "stream",
     "text": [
      "skipping\n"
     ]
    }
   ],
   "source": [
    "%%script echo skipping\n",
    "#Create gradientboost Regressor object\n",
    "from sklearn.ensemble import GradientBoostingRegressor\n",
    "myModel=GradientBoostingRegressor(max_depth=8,n_estimators=150,learning_rate=0.05)"
   ]
  },
  {
   "attachments": {},
   "cell_type": "markdown",
   "metadata": {},
   "source": [
    "### For RandomForest"
   ]
  },
  {
   "cell_type": "code",
   "execution_count": 68,
   "metadata": {},
   "outputs": [],
   "source": [
    "#Create RandomForest Regressor object\n",
    "from sklearn.ensemble import RandomForestRegressor\n",
    "# myModel=RandomForestRegressor(random_state=42)\n",
    "\n",
    "#WithBestParams\n",
    "myModel=RandomForestRegressor(random_state=42,\n",
    "                        n_estimators=115,\n",
    "                        min_samples_split=10,\n",
    "                        \n",
    "                        min_samples_leaf=2,\n",
    "                        max_features='sqrt',\n",
    "                        max_depth=70,bootstrap=False)"
   ]
  },
  {
   "attachments": {},
   "cell_type": "markdown",
   "metadata": {},
   "source": [
    "### to See the params"
   ]
  },
  {
   "cell_type": "code",
   "execution_count": 33,
   "metadata": {},
   "outputs": [
    {
     "data": {
      "text/plain": [
       "{'bootstrap': True,\n",
       " 'ccp_alpha': 0.0,\n",
       " 'criterion': 'squared_error',\n",
       " 'max_depth': None,\n",
       " 'max_features': 1.0,\n",
       " 'max_leaf_nodes': None,\n",
       " 'max_samples': None,\n",
       " 'min_impurity_decrease': 0.0,\n",
       " 'min_samples_leaf': 1,\n",
       " 'min_samples_split': 2,\n",
       " 'min_weight_fraction_leaf': 0.0,\n",
       " 'n_estimators': 100,\n",
       " 'n_jobs': None,\n",
       " 'oob_score': False,\n",
       " 'random_state': 42,\n",
       " 'verbose': 0,\n",
       " 'warm_start': False}"
      ]
     },
     "execution_count": 33,
     "metadata": {},
     "output_type": "execute_result"
    }
   ],
   "source": [
    "myModel.get_params()"
   ]
  },
  {
   "attachments": {},
   "cell_type": "markdown",
   "metadata": {},
   "source": [
    "## Model Running"
   ]
  },
  {
   "cell_type": "code",
   "execution_count": 69,
   "metadata": {},
   "outputs": [],
   "source": [
    "#Training\n",
    "model=myModel.fit(X_train,y_train)\n",
    "#Testing\n",
    "y_pred=model.predict(X_test)"
   ]
  },
  {
   "attachments": {},
   "cell_type": "markdown",
   "metadata": {},
   "source": [
    "## Model Evalutation"
   ]
  },
  {
   "cell_type": "code",
   "execution_count": 42,
   "metadata": {},
   "outputs": [],
   "source": [
    "from sklearn.metrics import mean_squared_error\n",
    "from sklearn.metrics import mean_absolute_error\n",
    "from sklearn.metrics import r2_score,f1_score"
   ]
  },
  {
   "cell_type": "code",
   "execution_count": 44,
   "metadata": {},
   "outputs": [
    {
     "data": {
      "text/html": [
       "<div>\n",
       "<style scoped>\n",
       "    .dataframe tbody tr th:only-of-type {\n",
       "        vertical-align: middle;\n",
       "    }\n",
       "\n",
       "    .dataframe tbody tr th {\n",
       "        vertical-align: top;\n",
       "    }\n",
       "\n",
       "    .dataframe thead th {\n",
       "        text-align: right;\n",
       "    }\n",
       "</style>\n",
       "<table border=\"1\" class=\"dataframe\">\n",
       "  <thead>\n",
       "    <tr style=\"text-align: right;\">\n",
       "      <th></th>\n",
       "      <th>Method Name</th>\n",
       "      <th>Values</th>\n",
       "    </tr>\n",
       "  </thead>\n",
       "  <tbody>\n",
       "    <tr>\n",
       "      <th>0</th>\n",
       "      <td>R-Squared</td>\n",
       "      <td>0.393382</td>\n",
       "    </tr>\n",
       "    <tr>\n",
       "      <th>1</th>\n",
       "      <td>Adjusted R-Squared</td>\n",
       "      <td>0.391598</td>\n",
       "    </tr>\n",
       "    <tr>\n",
       "      <th>2</th>\n",
       "      <td>Mean Absolute Error (MAE)</td>\n",
       "      <td>18.492019</td>\n",
       "    </tr>\n",
       "    <tr>\n",
       "      <th>3</th>\n",
       "      <td>Mean Squared Error (MSE)</td>\n",
       "      <td>837.161827</td>\n",
       "    </tr>\n",
       "    <tr>\n",
       "      <th>4</th>\n",
       "      <td>RMSE</td>\n",
       "      <td>28.933749</td>\n",
       "    </tr>\n",
       "  </tbody>\n",
       "</table>\n",
       "</div>"
      ],
      "text/plain": [
       "                 Method Name      Values\n",
       "0                  R-Squared    0.393382\n",
       "1         Adjusted R-Squared    0.391598\n",
       "2  Mean Absolute Error (MAE)   18.492019\n",
       "3   Mean Squared Error (MSE)  837.161827\n",
       "4                       RMSE   28.933749"
      ]
     },
     "execution_count": 44,
     "metadata": {},
     "output_type": "execute_result"
    }
   ],
   "source": [
    "methods=['R-Squared', 'Adjusted R-Squared', 'Mean Absolute Error (MAE)', 'Mean Squared Error (MSE)', 'RMSE']\n",
    "values=[]\n",
    "\n",
    "values.append(r2_score(y_test,y_pred)) #1.R-Squared\n",
    "values.append(1 - (1-model.score(X_test, y_test))*(len(y_test)-1)/(len(y_test)-X_test.shape[1]-1))#2.Adjusted R-Squared\n",
    "values.append(mean_absolute_error(y_test, y_pred))#3.MAE\n",
    "values.append(mean_squared_error(y_test, y_pred))#4.MSE\n",
    "values.append(np.sqrt(mean_squared_error(y_test, y_pred)))#5.RMSE\n",
    "# values.append(f1_score(y_test,y_pred))#6.F1 Score\n",
    "\n",
    "eval_df = pd.DataFrame({'Method Name' : methods, 'Values': values})\n",
    "eval_df"
   ]
  },
  {
   "attachments": {},
   "cell_type": "markdown",
   "metadata": {},
   "source": [
    "## Ploting the Importance"
   ]
  },
  {
   "cell_type": "code",
   "execution_count": 70,
   "metadata": {},
   "outputs": [
    {
     "data": {
      "image/png": "[encoded data removed]",
      "text/plain": [
       "<Figure size 640x480 with 1 Axes>"
      ]
     },
     "metadata": {},
     "output_type": "display_data"
    }
   ],
   "source": [
    "import matplotlib.pyplot as plt\n",
    "\n",
    "#plot feature importance\n",
    "feature_importance = model.feature_importances_\n",
    "\n",
    "#make importances relative to mac importance\n",
    "feature_importance=100.0 * (feature_importance/feature_importance.max())\n",
    "sorted_idx=np.argsort(feature_importance)\n",
    "pos=np.arange(sorted_idx.shape[0])+.5\n",
    "plt.barh(pos, feature_importance[sorted_idx],align='center')\n",
    "plt.yticks(pos, DATA.columns[sorted_idx])\n",
    "plt.xlabel('Relative Importance')\n",
    "plt.title('Variable Imporatance')\n",
    "plt.show()"
   ]
  },
  {
   "attachments": {},
   "cell_type": "markdown",
   "metadata": {},
   "source": [
    "## Tuning hyperparameters"
   ]
  },
  {
   "attachments": {},
   "cell_type": "markdown",
   "metadata": {},
   "source": [
    "### For GBRT"
   ]
  },
  {
   "cell_type": "code",
   "execution_count": null,
   "metadata": {},
   "outputs": [],
   "source": [
    "%%script echo skipping\n",
    "from sklearn.model_selection import GridSearchCV\n",
    "LR={'learning_rate':[0.15,0.10,0.05],'n_estimators':[100,150,200,250]}\n",
    "tuning=GridSearchCV(estimator=myModel,\n",
    "            param_grid=LR,scoring='r2')\n",
    "tuning.fit(X_train,y_train)\n",
    "tuning.best_params_, tuning.best_score_\n"
   ]
  },
  {
   "attachments": {},
   "cell_type": "markdown",
   "metadata": {},
   "source": [
    "\n",
    "Selected:\n",
    "({'learning_rate': 0.05, 'max_depth': 8, 'n_estimators': 250},0.3665469426033763)\n"
   ]
  },
  {
   "attachments": {},
   "cell_type": "markdown",
   "metadata": {},
   "source": [
    "### For RandomForest"
   ]
  },
  {
   "cell_type": "code",
   "execution_count": 58,
   "metadata": {},
   "outputs": [],
   "source": [
    "# Number of trees in random forest\n",
    "n_estimators = [int(x) for x in np.linspace(start = 10, stop = 80, num = 10)]\n",
    "# Number of features to consider at every split\n",
    "max_features = ['sqrt']\n",
    "# Maximum number of levels in tree\n",
    "max_depth = [int(x) for x in np.linspace(2, 10, num = 11)]\n",
    "max_depth.append(None)\n",
    "# Minimum number of samples required to split a node\n",
    "min_samples_split = [2, 4, 6]\n",
    "# Minimum number of samples required at each leaf node\n",
    "min_samples_leaf = [1, 2, 4]\n",
    "# Method of selecting samples for training each tree\n",
    "bootstrap = [True, False]"
   ]
  },
  {
   "cell_type": "code",
   "execution_count": 59,
   "metadata": {},
   "outputs": [
    {
     "name": "stdout",
     "output_type": "stream",
     "text": [
      "{'n_estimators': [10, 17, 25, 33, 41, 48, 56, 64, 72, 80], 'max_features': ['sqrt'], 'max_depth': [2, 2, 3, 4, 5, 6, 6, 7, 8, 9, 10, None], 'min_samples_split': [2, 4, 6], 'min_samples_leaf': [1, 2, 4], 'bootstrap': [True, False]}\n"
     ]
    }
   ],
   "source": [
    "# Create the param grid\n",
    "param_grid = {'n_estimators': n_estimators,\n",
    "               'max_features': max_features,\n",
    "               'max_depth': max_depth,\n",
    "               'min_samples_split': min_samples_split,\n",
    "               'min_samples_leaf': min_samples_leaf,\n",
    "               'bootstrap': bootstrap}\n",
    "print(param_grid)"
   ]
  },
  {
   "cell_type": "code",
   "execution_count": 60,
   "metadata": {},
   "outputs": [],
   "source": [
    "from sklearn.model_selection import RandomizedSearchCV\n",
    "model = myModel\n",
    "rf_RandomGrid = RandomizedSearchCV(estimator = model, param_distributions = param_grid, cv = 10, verbose=2, n_jobs = 4)"
   ]
  },
  {
   "cell_type": "code",
   "execution_count": 61,
   "metadata": {},
   "outputs": [
    {
     "name": "stdout",
     "output_type": "stream",
     "text": [
      "Fitting 10 folds for each of 10 candidates, totalling 100 fits\n",
      "[CV] END bootstrap=False, max_depth=6, max_features=sqrt, min_samples_leaf=4, min_samples_split=4, n_estimators=17; total time=   0.8s\n",
      "[CV] END bootstrap=False, max_depth=6, max_features=sqrt, min_samples_leaf=4, min_samples_split=4, n_estimators=17; total time=   0.8s\n",
      "[CV] END bootstrap=False, max_depth=6, max_features=sqrt, min_samples_leaf=4, min_samples_split=4, n_estimators=17; total time=   0.8s\n",
      "[CV] END bootstrap=False, max_depth=6, max_features=sqrt, min_samples_leaf=4, min_samples_split=4, n_estimators=17; total time=   0.8s\n",
      "[CV] END bootstrap=False, max_depth=6, max_features=sqrt, min_samples_leaf=4, min_samples_split=4, n_estimators=17; total time=   0.7s\n",
      "[CV] END bootstrap=False, max_depth=6, max_features=sqrt, min_samples_leaf=4, min_samples_split=4, n_estimators=17; total time=   0.7s\n",
      "[CV] END bootstrap=False, max_depth=6, max_features=sqrt, min_samples_leaf=4, min_samples_split=4, n_estimators=17; total time=   0.7s\n",
      "[CV] END bootstrap=False, max_depth=6, max_features=sqrt, min_samples_leaf=4, min_samples_split=4, n_estimators=17; total time=   0.7s\n",
      "[CV] END bootstrap=False, max_depth=6, max_features=sqrt, min_samples_leaf=4, min_samples_split=4, n_estimators=17; total time=   0.7s\n",
      "[CV] END bootstrap=False, max_depth=6, max_features=sqrt, min_samples_leaf=4, min_samples_split=4, n_estimators=17; total time=   0.7s\n",
      "[CV] END bootstrap=True, max_depth=9, max_features=sqrt, min_samples_leaf=4, min_samples_split=4, n_estimators=41; total time=   1.7s\n",
      "[CV] END bootstrap=True, max_depth=9, max_features=sqrt, min_samples_leaf=4, min_samples_split=4, n_estimators=41; total time=   1.7s\n",
      "[CV] END bootstrap=True, max_depth=9, max_features=sqrt, min_samples_leaf=4, min_samples_split=4, n_estimators=41; total time=   1.7s\n",
      "[CV] END bootstrap=True, max_depth=9, max_features=sqrt, min_samples_leaf=4, min_samples_split=4, n_estimators=41; total time=   1.7s\n",
      "[CV] END bootstrap=True, max_depth=9, max_features=sqrt, min_samples_leaf=4, min_samples_split=4, n_estimators=41; total time=   1.6s\n",
      "[CV] END bootstrap=True, max_depth=9, max_features=sqrt, min_samples_leaf=4, min_samples_split=4, n_estimators=41; total time=   1.5s\n",
      "[CV] END bootstrap=True, max_depth=9, max_features=sqrt, min_samples_leaf=4, min_samples_split=4, n_estimators=41; total time=   1.5s\n",
      "[CV] END bootstrap=True, max_depth=9, max_features=sqrt, min_samples_leaf=4, min_samples_split=4, n_estimators=41; total time=   1.5s\n",
      "[CV] END bootstrap=True, max_depth=9, max_features=sqrt, min_samples_leaf=4, min_samples_split=4, n_estimators=41; total time=   1.5s\n",
      "[CV] END bootstrap=True, max_depth=9, max_features=sqrt, min_samples_leaf=4, min_samples_split=4, n_estimators=41; total time=   1.5s\n",
      "[CV] END bootstrap=False, max_depth=None, max_features=sqrt, min_samples_leaf=1, min_samples_split=4, n_estimators=56; total time=   6.5s\n",
      "[CV] END bootstrap=False, max_depth=None, max_features=sqrt, min_samples_leaf=1, min_samples_split=4, n_estimators=56; total time=   6.5s\n",
      "[CV] END bootstrap=False, max_depth=None, max_features=sqrt, min_samples_leaf=1, min_samples_split=4, n_estimators=56; total time=   6.6s\n",
      "[CV] END bootstrap=False, max_depth=None, max_features=sqrt, min_samples_leaf=1, min_samples_split=4, n_estimators=56; total time=   6.7s\n",
      "[CV] END bootstrap=False, max_depth=None, max_features=sqrt, min_samples_leaf=1, min_samples_split=4, n_estimators=56; total time=   6.5s\n",
      "[CV] END bootstrap=False, max_depth=None, max_features=sqrt, min_samples_leaf=1, min_samples_split=4, n_estimators=56; total time=   6.6s\n",
      "[CV] END bootstrap=False, max_depth=None, max_features=sqrt, min_samples_leaf=1, min_samples_split=4, n_estimators=56; total time=   6.7s\n",
      "[CV] END bootstrap=False, max_depth=None, max_features=sqrt, min_samples_leaf=1, min_samples_split=4, n_estimators=56; total time=   6.6s\n",
      "[CV] END bootstrap=True, max_depth=10, max_features=sqrt, min_samples_leaf=4, min_samples_split=4, n_estimators=80; total time=   3.3s\n",
      "[CV] END bootstrap=True, max_depth=10, max_features=sqrt, min_samples_leaf=4, min_samples_split=4, n_estimators=80; total time=   3.3s\n",
      "[CV] END bootstrap=False, max_depth=None, max_features=sqrt, min_samples_leaf=1, min_samples_split=4, n_estimators=56; total time=   6.4s\n",
      "[CV] END bootstrap=False, max_depth=None, max_features=sqrt, min_samples_leaf=1, min_samples_split=4, n_estimators=56; total time=   6.5s\n",
      "[CV] END bootstrap=True, max_depth=10, max_features=sqrt, min_samples_leaf=4, min_samples_split=4, n_estimators=80; total time=   4.0s\n",
      "[CV] END bootstrap=True, max_depth=10, max_features=sqrt, min_samples_leaf=4, min_samples_split=4, n_estimators=80; total time=   4.0s\n",
      "[CV] END bootstrap=True, max_depth=10, max_features=sqrt, min_samples_leaf=4, min_samples_split=4, n_estimators=80; total time=   3.7s\n",
      "[CV] END bootstrap=True, max_depth=10, max_features=sqrt, min_samples_leaf=4, min_samples_split=4, n_estimators=80; total time=   3.7s\n",
      "[CV] END bootstrap=True, max_depth=10, max_features=sqrt, min_samples_leaf=4, min_samples_split=4, n_estimators=80; total time=   3.2s\n",
      "[CV] END bootstrap=True, max_depth=10, max_features=sqrt, min_samples_leaf=4, min_samples_split=4, n_estimators=80; total time=   3.2s\n",
      "[CV] END bootstrap=False, max_depth=9, max_features=sqrt, min_samples_leaf=4, min_samples_split=6, n_estimators=25; total time=   1.4s\n",
      "[CV] END bootstrap=False, max_depth=9, max_features=sqrt, min_samples_leaf=4, min_samples_split=6, n_estimators=25; total time=   1.4s\n",
      "[CV] END bootstrap=True, max_depth=10, max_features=sqrt, min_samples_leaf=4, min_samples_split=4, n_estimators=80; total time=   3.2s\n",
      "[CV] END bootstrap=True, max_depth=10, max_features=sqrt, min_samples_leaf=4, min_samples_split=4, n_estimators=80; total time=   3.1s\n",
      "[CV] END bootstrap=False, max_depth=9, max_features=sqrt, min_samples_leaf=4, min_samples_split=6, n_estimators=25; total time=   1.4s\n",
      "[CV] END bootstrap=False, max_depth=9, max_features=sqrt, min_samples_leaf=4, min_samples_split=6, n_estimators=25; total time=   1.4s\n",
      "[CV] END bootstrap=False, max_depth=9, max_features=sqrt, min_samples_leaf=4, min_samples_split=6, n_estimators=25; total time=   1.4s\n",
      "[CV] END bootstrap=False, max_depth=9, max_features=sqrt, min_samples_leaf=4, min_samples_split=6, n_estimators=25; total time=   1.4s\n",
      "[CV] END bootstrap=False, max_depth=9, max_features=sqrt, min_samples_leaf=4, min_samples_split=6, n_estimators=25; total time=   1.4s\n",
      "[CV] END bootstrap=False, max_depth=9, max_features=sqrt, min_samples_leaf=4, min_samples_split=6, n_estimators=25; total time=   1.4s\n",
      "[CV] END bootstrap=False, max_depth=9, max_features=sqrt, min_samples_leaf=4, min_samples_split=6, n_estimators=25; total time=   1.4s\n",
      "[CV] END bootstrap=False, max_depth=9, max_features=sqrt, min_samples_leaf=4, min_samples_split=6, n_estimators=25; total time=   1.4s\n",
      "[CV] END bootstrap=False, max_depth=9, max_features=sqrt, min_samples_leaf=1, min_samples_split=2, n_estimators=41; total time=   2.3s\n",
      "[CV] END bootstrap=False, max_depth=9, max_features=sqrt, min_samples_leaf=1, min_samples_split=2, n_estimators=41; total time=   2.3s\n",
      "[CV] END bootstrap=False, max_depth=9, max_features=sqrt, min_samples_leaf=1, min_samples_split=2, n_estimators=41; total time=   2.3s\n",
      "[CV] END bootstrap=False, max_depth=9, max_features=sqrt, min_samples_leaf=1, min_samples_split=2, n_estimators=41; total time=   2.3s\n",
      "[CV] END bootstrap=False, max_depth=9, max_features=sqrt, min_samples_leaf=1, min_samples_split=2, n_estimators=41; total time=   2.4s\n",
      "[CV] END bootstrap=False, max_depth=9, max_features=sqrt, min_samples_leaf=1, min_samples_split=2, n_estimators=41; total time=   2.4s\n",
      "[CV] END bootstrap=False, max_depth=9, max_features=sqrt, min_samples_leaf=1, min_samples_split=2, n_estimators=41; total time=   2.5s\n",
      "[CV] END bootstrap=False, max_depth=9, max_features=sqrt, min_samples_leaf=1, min_samples_split=2, n_estimators=41; total time=   2.5s\n",
      "[CV] END bootstrap=False, max_depth=4, max_features=sqrt, min_samples_leaf=2, min_samples_split=2, n_estimators=41; total time=   1.6s\n",
      "[CV] END bootstrap=False, max_depth=4, max_features=sqrt, min_samples_leaf=2, min_samples_split=2, n_estimators=41; total time=   1.5s\n",
      "[CV] END bootstrap=False, max_depth=9, max_features=sqrt, min_samples_leaf=1, min_samples_split=2, n_estimators=41; total time=   3.0s\n",
      "[CV] END bootstrap=False, max_depth=9, max_features=sqrt, min_samples_leaf=1, min_samples_split=2, n_estimators=41; total time=   3.0s\n",
      "[CV] END bootstrap=False, max_depth=4, max_features=sqrt, min_samples_leaf=2, min_samples_split=2, n_estimators=41; total time=   1.4s\n",
      "[CV] END bootstrap=False, max_depth=4, max_features=sqrt, min_samples_leaf=2, min_samples_split=2, n_estimators=41; total time=   1.4s\n",
      "[CV] END bootstrap=False, max_depth=4, max_features=sqrt, min_samples_leaf=2, min_samples_split=2, n_estimators=41; total time=   1.2s\n",
      "[CV] END bootstrap=False, max_depth=4, max_features=sqrt, min_samples_leaf=2, min_samples_split=2, n_estimators=41; total time=   1.2s\n",
      "[CV] END bootstrap=False, max_depth=4, max_features=sqrt, min_samples_leaf=2, min_samples_split=2, n_estimators=41; total time=   1.2s\n",
      "[CV] END bootstrap=False, max_depth=4, max_features=sqrt, min_samples_leaf=2, min_samples_split=2, n_estimators=41; total time=   1.2s\n",
      "[CV] END bootstrap=False, max_depth=4, max_features=sqrt, min_samples_leaf=2, min_samples_split=2, n_estimators=41; total time=   1.2s\n",
      "[CV] END bootstrap=False, max_depth=4, max_features=sqrt, min_samples_leaf=2, min_samples_split=2, n_estimators=41; total time=   1.2s\n",
      "[CV] END bootstrap=True, max_depth=8, max_features=sqrt, min_samples_leaf=1, min_samples_split=4, n_estimators=48; total time=   1.6s\n",
      "[CV] END bootstrap=True, max_depth=8, max_features=sqrt, min_samples_leaf=1, min_samples_split=4, n_estimators=48; total time=   1.6s\n",
      "[CV] END bootstrap=True, max_depth=8, max_features=sqrt, min_samples_leaf=1, min_samples_split=4, n_estimators=48; total time=   1.6s\n",
      "[CV] END bootstrap=True, max_depth=8, max_features=sqrt, min_samples_leaf=1, min_samples_split=4, n_estimators=48; total time=   1.6s\n",
      "[CV] END bootstrap=True, max_depth=8, max_features=sqrt, min_samples_leaf=1, min_samples_split=4, n_estimators=48; total time=   1.7s\n",
      "[CV] END bootstrap=True, max_depth=8, max_features=sqrt, min_samples_leaf=1, min_samples_split=4, n_estimators=48; total time=   1.6s\n",
      "[CV] END bootstrap=True, max_depth=8, max_features=sqrt, min_samples_leaf=1, min_samples_split=4, n_estimators=48; total time=   1.7s\n",
      "[CV] END bootstrap=True, max_depth=8, max_features=sqrt, min_samples_leaf=1, min_samples_split=4, n_estimators=48; total time=   1.6s\n",
      "[CV] END bootstrap=True, max_depth=2, max_features=sqrt, min_samples_leaf=4, min_samples_split=6, n_estimators=41; total time=   0.5s\n",
      "[CV] END bootstrap=True, max_depth=2, max_features=sqrt, min_samples_leaf=4, min_samples_split=6, n_estimators=41; total time=   0.5s\n",
      "[CV] END bootstrap=True, max_depth=8, max_features=sqrt, min_samples_leaf=1, min_samples_split=4, n_estimators=48; total time=   1.6s\n",
      "[CV] END bootstrap=True, max_depth=8, max_features=sqrt, min_samples_leaf=1, min_samples_split=4, n_estimators=48; total time=   1.7s\n",
      "[CV] END bootstrap=True, max_depth=2, max_features=sqrt, min_samples_leaf=4, min_samples_split=6, n_estimators=41; total time=   0.5s\n",
      "[CV] END bootstrap=True, max_depth=2, max_features=sqrt, min_samples_leaf=4, min_samples_split=6, n_estimators=41; total time=   0.5s\n",
      "[CV] END bootstrap=True, max_depth=2, max_features=sqrt, min_samples_leaf=4, min_samples_split=6, n_estimators=41; total time=   0.5s\n",
      "[CV] END bootstrap=True, max_depth=2, max_features=sqrt, min_samples_leaf=4, min_samples_split=6, n_estimators=41; total time=   0.5s\n",
      "[CV] END bootstrap=True, max_depth=2, max_features=sqrt, min_samples_leaf=4, min_samples_split=6, n_estimators=41; total time=   0.5s\n",
      "[CV] END bootstrap=True, max_depth=2, max_features=sqrt, min_samples_leaf=4, min_samples_split=6, n_estimators=41; total time=   0.5s\n",
      "[CV] END bootstrap=True, max_depth=2, max_features=sqrt, min_samples_leaf=4, min_samples_split=6, n_estimators=41; total time=   0.5s\n",
      "[CV] END bootstrap=True, max_depth=2, max_features=sqrt, min_samples_leaf=4, min_samples_split=6, n_estimators=41; total time=   0.5s\n",
      "[CV] END bootstrap=False, max_depth=None, max_features=sqrt, min_samples_leaf=2, min_samples_split=2, n_estimators=10; total time=   1.0s\n",
      "[CV] END bootstrap=False, max_depth=None, max_features=sqrt, min_samples_leaf=2, min_samples_split=2, n_estimators=10; total time=   1.0s\n",
      "[CV] END bootstrap=False, max_depth=None, max_features=sqrt, min_samples_leaf=2, min_samples_split=2, n_estimators=10; total time=   1.0s\n",
      "[CV] END bootstrap=False, max_depth=None, max_features=sqrt, min_samples_leaf=2, min_samples_split=2, n_estimators=10; total time=   1.0s\n",
      "[CV] END bootstrap=False, max_depth=None, max_features=sqrt, min_samples_leaf=2, min_samples_split=2, n_estimators=10; total time=   1.0s\n",
      "[CV] END bootstrap=False, max_depth=None, max_features=sqrt, min_samples_leaf=2, min_samples_split=2, n_estimators=10; total time=   1.0s\n",
      "[CV] END bootstrap=False, max_depth=None, max_features=sqrt, min_samples_leaf=2, min_samples_split=2, n_estimators=10; total time=   1.0s\n",
      "[CV] END bootstrap=False, max_depth=None, max_features=sqrt, min_samples_leaf=2, min_samples_split=2, n_estimators=10; total time=   1.0s\n",
      "[CV] END bootstrap=False, max_depth=None, max_features=sqrt, min_samples_leaf=2, min_samples_split=2, n_estimators=10; total time=   0.8s\n",
      "[CV] END bootstrap=False, max_depth=None, max_features=sqrt, min_samples_leaf=2, min_samples_split=2, n_estimators=10; total time=   0.8s\n"
     ]
    },
    {
     "data": {
      "text/html": [
       "<style>#sk-container-id-5 {color: black;background-color: white;}#sk-container-id-5 pre{padding: 0;}#sk-container-id-5 div.sk-toggleable {background-color: white;}#sk-container-id-5 label.sk-toggleable__label {cursor: pointer;display: block;width: 100%;margin-bottom: 0;padding: 0.3em;box-sizing: border-box;text-align: center;}#sk-container-id-5 label.sk-toggleable__label-arrow:before {content: \"▸\";float: left;margin-right: 0.25em;color: #696969;}#sk-container-id-5 label.sk-toggleable__label-arrow:hover:before {color: black;}#sk-container-id-5 div.sk-estimator:hover label.sk-toggleable__label-arrow:before {color: black;}#sk-container-id-5 div.sk-toggleable__content {max-height: 0;max-width: 0;overflow: hidden;text-align: left;background-color: #f0f8ff;}#sk-container-id-5 div.sk-toggleable__content pre {margin: 0.2em;color: black;border-radius: 0.25em;background-color: #f0f8ff;}#sk-container-id-5 input.sk-toggleable__control:checked~div.sk-toggleable__content {max-height: 200px;max-width: 100%;overflow: auto;}#sk-container-id-5 input.sk-toggleable__control:checked~label.sk-toggleable__label-arrow:before {content: \"▾\";}#sk-container-id-5 div.sk-estimator input.sk-toggleable__control:checked~label.sk-toggleable__label {background-color: #d4ebff;}#sk-container-id-5 div.sk-label input.sk-toggleable__control:checked~label.sk-toggleable__label {background-color: #d4ebff;}#sk-container-id-5 input.sk-hidden--visually {border: 0;clip: rect(1px 1px 1px 1px);clip: rect(1px, 1px, 1px, 1px);height: 1px;margin: -1px;overflow: hidden;padding: 0;position: absolute;width: 1px;}#sk-container-id-5 div.sk-estimator {font-family: monospace;background-color: #f0f8ff;border: 1px dotted black;border-radius: 0.25em;box-sizing: border-box;margin-bottom: 0.5em;}#sk-container-id-5 div.sk-estimator:hover {background-color: #d4ebff;}#sk-container-id-5 div.sk-parallel-item::after {content: \"\";width: 100%;border-bottom: 1px solid gray;flex-grow: 1;}#sk-container-id-5 div.sk-label:hover label.sk-toggleable__label {background-color: #d4ebff;}#sk-container-id-5 div.sk-serial::before {content: \"\";position: absolute;border-left: 1px solid gray;box-sizing: border-box;top: 0;bottom: 0;left: 50%;z-index: 0;}#sk-container-id-5 div.sk-serial {display: flex;flex-direction: column;align-items: center;background-color: white;padding-right: 0.2em;padding-left: 0.2em;position: relative;}#sk-container-id-5 div.sk-item {position: relative;z-index: 1;}#sk-container-id-5 div.sk-parallel {display: flex;align-items: stretch;justify-content: center;background-color: white;position: relative;}#sk-container-id-5 div.sk-item::before, #sk-container-id-5 div.sk-parallel-item::before {content: \"\";position: absolute;border-left: 1px solid gray;box-sizing: border-box;top: 0;bottom: 0;left: 50%;z-index: -1;}#sk-container-id-5 div.sk-parallel-item {display: flex;flex-direction: column;z-index: 1;position: relative;background-color: white;}#sk-container-id-5 div.sk-parallel-item:first-child::after {align-self: flex-end;width: 50%;}#sk-container-id-5 div.sk-parallel-item:last-child::after {align-self: flex-start;width: 50%;}#sk-container-id-5 div.sk-parallel-item:only-child::after {width: 0;}#sk-container-id-5 div.sk-dashed-wrapped {border: 1px dashed gray;margin: 0 0.4em 0.5em 0.4em;box-sizing: border-box;padding-bottom: 0.4em;background-color: white;}#sk-container-id-5 div.sk-label label {font-family: monospace;font-weight: bold;display: inline-block;line-height: 1.2em;}#sk-container-id-5 div.sk-label-container {text-align: center;}#sk-container-id-5 div.sk-container {/* jupyter's `normalize.less` sets `[hidden] { display: none; }` but bootstrap.min.css set `[hidden] { display: none !important; }` so we also need the `!important` here to be able to override the default hidden behavior on the sphinx rendered scikit-learn.org. See: https://github.com/scikit-learn/scikit-learn/issues/21755 */display: inline-block !important;position: relative;}#sk-container-id-5 div.sk-text-repr-fallback {display: none;}</style><div id=\"sk-container-id-5\" class=\"sk-top-container\"><div class=\"sk-text-repr-fallback\"><pre>RandomizedSearchCV(cv=10, estimator=RandomForestRegressor(random_state=42),\n",
       "                   n_jobs=4,\n",
       "                   param_distributions={&#x27;bootstrap&#x27;: [True, False],\n",
       "                                        &#x27;max_depth&#x27;: [2, 2, 3, 4, 5, 6, 6, 7, 8,\n",
       "                                                      9, 10, None],\n",
       "                                        &#x27;max_features&#x27;: [&#x27;sqrt&#x27;],\n",
       "                                        &#x27;min_samples_leaf&#x27;: [1, 2, 4],\n",
       "                                        &#x27;min_samples_split&#x27;: [2, 4, 6],\n",
       "                                        &#x27;n_estimators&#x27;: [10, 17, 25, 33, 41, 48,\n",
       "                                                         56, 64, 72, 80]},\n",
       "                   verbose=2)</pre><b>In a Jupyter environment, please rerun this cell to show the HTML representation or trust the notebook. <br />On GitHub, the HTML representation is unable to render, please try loading this page with nbviewer.org.</b></div><div class=\"sk-container\" hidden><div class=\"sk-item sk-dashed-wrapped\"><div class=\"sk-label-container\"><div class=\"sk-label sk-toggleable\"><input class=\"sk-toggleable__control sk-hidden--visually\" id=\"sk-estimator-id-13\" type=\"checkbox\" ><label for=\"sk-estimator-id-13\" class=\"sk-toggleable__label sk-toggleable__label-arrow\">RandomizedSearchCV</label><div class=\"sk-toggleable__content\"><pre>RandomizedSearchCV(cv=10, estimator=RandomForestRegressor(random_state=42),\n",
       "                   n_jobs=4,\n",
       "                   param_distributions={&#x27;bootstrap&#x27;: [True, False],\n",
       "                                        &#x27;max_depth&#x27;: [2, 2, 3, 4, 5, 6, 6, 7, 8,\n",
       "                                                      9, 10, None],\n",
       "                                        &#x27;max_features&#x27;: [&#x27;sqrt&#x27;],\n",
       "                                        &#x27;min_samples_leaf&#x27;: [1, 2, 4],\n",
       "                                        &#x27;min_samples_split&#x27;: [2, 4, 6],\n",
       "                                        &#x27;n_estimators&#x27;: [10, 17, 25, 33, 41, 48,\n",
       "                                                         56, 64, 72, 80]},\n",
       "                   verbose=2)</pre></div></div></div><div class=\"sk-parallel\"><div class=\"sk-parallel-item\"><div class=\"sk-item\"><div class=\"sk-label-container\"><div class=\"sk-label sk-toggleable\"><input class=\"sk-toggleable__control sk-hidden--visually\" id=\"sk-estimator-id-14\" type=\"checkbox\" ><label for=\"sk-estimator-id-14\" class=\"sk-toggleable__label sk-toggleable__label-arrow\">estimator: RandomForestRegressor</label><div class=\"sk-toggleable__content\"><pre>RandomForestRegressor(random_state=42)</pre></div></div></div><div class=\"sk-serial\"><div class=\"sk-item\"><div class=\"sk-estimator sk-toggleable\"><input class=\"sk-toggleable__control sk-hidden--visually\" id=\"sk-estimator-id-15\" type=\"checkbox\" ><label for=\"sk-estimator-id-15\" class=\"sk-toggleable__label sk-toggleable__label-arrow\">RandomForestRegressor</label><div class=\"sk-toggleable__content\"><pre>RandomForestRegressor(random_state=42)</pre></div></div></div></div></div></div></div></div></div></div>"
      ],
      "text/plain": [
       "RandomizedSearchCV(cv=10, estimator=RandomForestRegressor(random_state=42),\n",
       "                   n_jobs=4,\n",
       "                   param_distributions={'bootstrap': [True, False],\n",
       "                                        'max_depth': [2, 2, 3, 4, 5, 6, 6, 7, 8,\n",
       "                                                      9, 10, None],\n",
       "                                        'max_features': ['sqrt'],\n",
       "                                        'min_samples_leaf': [1, 2, 4],\n",
       "                                        'min_samples_split': [2, 4, 6],\n",
       "                                        'n_estimators': [10, 17, 25, 33, 41, 48,\n",
       "                                                         56, 64, 72, 80]},\n",
       "                   verbose=2)"
      ]
     },
     "execution_count": 61,
     "metadata": {},
     "output_type": "execute_result"
    }
   ],
   "source": [
    "rf_RandomGrid.fit(X_train, y_train)"
   ]
  },
  {
   "cell_type": "code",
   "execution_count": 62,
   "metadata": {},
   "outputs": [
    {
     "data": {
      "text/plain": [
       "{'n_estimators': 56,\n",
       " 'min_samples_split': 4,\n",
       " 'min_samples_leaf': 1,\n",
       " 'max_features': 'sqrt',\n",
       " 'max_depth': None,\n",
       " 'bootstrap': False}"
      ]
     },
     "execution_count": 62,
     "metadata": {},
     "output_type": "execute_result"
    }
   ],
   "source": [
    "rf_RandomGrid.best_params_"
   ]
  },
  {
   "cell_type": "code",
   "execution_count": 63,
   "metadata": {},
   "outputs": [
    {
     "name": "stdout",
     "output_type": "stream",
     "text": [
      "Train Accuracy - : 0.991\n",
      "Test Accuracy - : 0.422\n"
     ]
    }
   ],
   "source": [
    "print (f'Train Accuracy - : {rf_RandomGrid.score(X_train,y_train):.3f}')\n",
    "print (f'Test Accuracy - : {rf_RandomGrid.score(X_test,y_test):.3f}')"
   ]
  }
 ],
 "metadata": {
  "kernelspec": {
   "display_name": "CLIMATE_SCIENCE",
   "language": "python",
   "name": "python3"
  },
  "language_info": {
   "codemirror_mode": {
    "name": "ipython",
    "version": 3
   },
   "file_extension": ".py",
   "mimetype": "text/x-python",
   "name": "python",
   "nbconvert_exporter": "python",
   "pygments_lexer": "ipython3",
   "version": "3.10.6"
  },
  "orig_nbformat": 4,
  "vscode": {
   "interpreter": {
    "hash": "07b86caa93fadaa61f04e6b621513b8b6f4b7cc85bf00bd26e84ad3c3830db61"
   }
  }
 },
 "nbformat": 4,
 "nbformat_minor": 2
}
