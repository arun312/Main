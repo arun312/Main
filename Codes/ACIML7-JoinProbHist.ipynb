{
 "cells": [
  {
   "cell_type": "code",
   "execution_count": 1,
   "metadata": {},
   "outputs": [],
   "source": [
    "import pandas as pd\n",
    "import matplotlib.pyplot as plt\n",
    "import cmasher as cmr\n",
    "import numpy as np"
   ]
  },
  {
   "cell_type": "code",
   "execution_count": 70,
   "metadata": {},
   "outputs": [],
   "source": [
    "# Load the Excel file into a pandas DataFrame\n",
    "df = pd.read_excel('../Outputs/MachineLearning/ML1-PreMon1.xlsx')\n",
    "\n",
    "# Extract the two columns of data for the variables\n",
    "x = df['Nd']\n",
    "y = df['LWP']"
   ]
  },
  {
   "attachments": {},
   "cell_type": "markdown",
   "metadata": {},
   "source": [
    "<img  width=400 src=\"../formulas/PLC.png\">\n"
   ]
  },
  {
   "cell_type": "code",
   "execution_count": 76,
   "metadata": {},
   "outputs": [],
   "source": [
    "# remove zero values\n",
    "x = x[x != 0]\n",
    "y = y[y != 0]\n"
   ]
  },
  {
   "cell_type": "code",
   "execution_count": 109,
   "metadata": {},
   "outputs": [],
   "source": [
    "#Defining the PieceWise Curve\n",
    "def fit(Nd,Ndp,Lp,ml,mh):\n",
    "    return np.where ( Nd < Ndp,\n",
    "    (Lp)+(ml)*((Nd)-(Ndp)),\n",
    "    (Lp)+(mh)*((Nd)-(Ndp)))\n"
   ]
  },
  {
   "cell_type": "code",
   "execution_count": 124,
   "metadata": {},
   "outputs": [],
   "source": [
    "\n",
    "\n",
    "n=len(x)\n",
    "yy=np.empty(n)\n",
    "g=[4.66007190e+01,5.33901749e+01,-1.80734902e-01,2.46605492e-03]\n",
    "for i in range(n):\n",
    "    yy[i]=fit((x[i]),g[0],g[1],g[2],g[3])"
   ]
  },
  {
   "cell_type": "code",
   "execution_count": 123,
   "metadata": {},
   "outputs": [
    {
     "data": {
      "text/plain": [
       "array([ 4.66007190e+01,  5.33901749e+01, -1.80734902e-01,  2.46605492e-03])"
      ]
     },
     "execution_count": 123,
     "metadata": {},
     "output_type": "execute_result"
    }
   ],
   "source": [
    "g=[10,30, -1.02528302e-03, -6.22104716e-04]\n",
    "\n",
    "#optimisation\n",
    "from scipy.optimize import curve_fit\n",
    "c,cov= curve_fit(fit,x.values,(y.values),g,method='lm')\n",
    "c\n"
   ]
  },
  {
   "cell_type": "code",
   "execution_count": null,
   "metadata": {},
   "outputs": [],
   "source": []
  },
  {
   "cell_type": "code",
   "execution_count": 133,
   "metadata": {},
   "outputs": [
    {
     "name": "stderr",
     "output_type": "stream",
     "text": [
      "/var/folders/49/l_0gvcjs3dq8y9y3dm74j_200000gn/T/ipykernel_1634/1675214054.py:8: UserWarning: Attempt to set non-positive xlim on a log-scaled axis will be ignored.\n",
      "  plt.xlim(0, 100)\n",
      "/var/folders/49/l_0gvcjs3dq8y9y3dm74j_200000gn/T/ipykernel_1634/1675214054.py:9: UserWarning: Attempt to set non-positive ylim on a log-scaled axis will be ignored.\n",
      "  plt.ylim(0, 100)\n"
     ]
    },
    {
     "data": {
      "image/png": "[encoded data removed]",
      "text/plain": [
       "<Figure size 640x480 with 1 Axes>"
      ]
     },
     "metadata": {},
     "output_type": "display_data"
    }
   ],
   "source": [
    "\n",
    "# Plot the joint probability histogram using matplotlib\n",
    "plt.hist2d((x),(y), bins=(500, 500), cmap='cmr.apple_r',density=True)\n",
    "plt.plot((x),yy)\n",
    "plt.xscale('log')\n",
    "plt.yscale('log')\n",
    "plt.xlabel('Nd')\n",
    "plt.ylabel('LWP')\n",
    "plt.xlim(0, 100)\n",
    "plt.ylim(0, 100)\n",
    "# plt.yticks([3,10,30,100,300], [3,10,30,100,300])\n",
    "# plt.xticks([3,10,30,100,300], [3,10,30,100,300])\n",
    "plt.savefig('JointHist1.png',dpi=300)\n",
    "\n",
    "plt.show()\n"
   ]
  },
  {
   "cell_type": "code",
   "execution_count": null,
   "metadata": {},
   "outputs": [],
   "source": []
  }
 ],
 "metadata": {
  "kernelspec": {
   "display_name": "CLIMATE_SCIENCE",
   "language": "python",
   "name": "python3"
  },
  "language_info": {
   "codemirror_mode": {
    "name": "ipython",
    "version": 3
   },
   "file_extension": ".py",
   "mimetype": "text/x-python",
   "name": "python",
   "nbconvert_exporter": "python",
   "pygments_lexer": "ipython3",
   "version": "3.10.6"
  },
  "orig_nbformat": 4,
  "vscode": {
   "interpreter": {
    "hash": "07b86caa93fadaa61f04e6b621513b8b6f4b7cc85bf00bd26e84ad3c3830db61"
   }
  }
 },
 "nbformat": 4,
 "nbformat_minor": 2
}
