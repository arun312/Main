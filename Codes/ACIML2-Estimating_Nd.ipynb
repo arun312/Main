{
 "cells": [
  {
   "cell_type": "markdown",
   "metadata": {},
   "source": [
    "## Formulation"
   ]
  },
  {
   "cell_type": "code",
   "execution_count": 60,
   "metadata": {},
   "outputs": [],
   "source": [
    "#Constants\n",
    "import math\n",
    "import numpy as np\n",
    "\n",
    "\n",
    "Cp=1004 #J/Kg/k\n",
    "Lv=2.5*math.pow(10,6) #J/kg\n",
    "eta=0.622\n",
    "Rd=287 #J/Kg/k\n",
    "Rv=Rd/eta #J/Kg/k\n",
    "g=9.8 #m/s2\n",
    "gamma_d=g/Cp \n",
    "rho_a=1.225 #kg/m3"
   ]
  },
  {
   "cell_type": "markdown",
   "metadata": {},
   "source": [
    "### Estimation of saturation mixing ratio <br>\n",
    "<img  width=400 src=\"../formulas/q.png\">\n"
   ]
  },
  {
   "cell_type": "code",
   "execution_count": 61,
   "metadata": {},
   "outputs": [],
   "source": [
    "\n",
    "def estimation_of_q(T,p):\n",
    "    c1=Lv/Rv\n",
    "    e=6.11*np.exp(c1*((1/273)-(1/T)))\n",
    "    q=(eta*e)/p\n",
    "    return q"
   ]
  },
  {
   "cell_type": "markdown",
   "metadata": {},
   "source": [
    "### Estimation of Moist Temperature Lapse rate <br>\n",
    "<img  width=200 src=\"../formulas/gamma_m.png\">"
   ]
  },
  {
   "cell_type": "code",
   "execution_count": 62,
   "metadata": {},
   "outputs": [],
   "source": [
    "def estimation_of_gamma_m(q,T):\n",
    "    numerator=1+((Lv*q)/(Rd*T))\n",
    "    denom=1+((Lv*Lv*q)/(Cp*Rv*T*T))\n",
    "    gamma_m=gamma_d*(numerator/denom)\n",
    "    return gamma_m"
   ]
  },
  {
   "cell_type": "markdown",
   "metadata": {},
   "source": [
    "### Estimation of Condensation rate <br>\n",
    "<img  width=400 src=\"../formulas/Cw.png\">"
   ]
  },
  {
   "cell_type": "code",
   "execution_count": 63,
   "metadata": {},
   "outputs": [],
   "source": [
    "def estimation_of_Cw(T,p):\n",
    "    q=estimation_of_q(T,p)\n",
    "    gamma_m=estimation_of_gamma_m(q,T)\n",
    "    Cw=rho_a*(Cp/Lv)*(gamma_d-gamma_m)\n",
    "    return Cw"
   ]
  },
  {
   "cell_type": "markdown",
   "metadata": {},
   "source": [
    "### Estimation of Nd <br>\n",
    "<img  width=400 src=\"../formulas/Nd.png\">"
   ]
  },
  {
   "cell_type": "code",
   "execution_count": 64,
   "metadata": {},
   "outputs": [],
   "source": [
    "\n",
    "def estimation_of_Nd(cloud_T,cloud_p,tau,re):\n",
    "    k=0.8\n",
    "    f_ad=1\n",
    "    Cw=estimation_of_Cw(cloud_T,cloud_p)\n",
    "    Q_ext=2\n",
    "    rho_w=1000 #kg/m3\n",
    "\n",
    "    c1=(np.sqrt(5)/(2*math.pi*k))\n",
    "    numerator=f_ad*Cw*tau\n",
    "    denom=Q_ext*rho_w*np.power(re,5)\n",
    "\n",
    "    Nd=c1*np.sqrt(numerator/denom)\n",
    "    return Nd"
   ]
  },
  {
   "cell_type": "markdown",
   "metadata": {},
   "source": [
    "# Reading the Dataset and calucation"
   ]
  },
  {
   "cell_type": "code",
   "execution_count": 65,
   "metadata": {},
   "outputs": [],
   "source": [
    "import xarray as xr\n",
    "\n",
    "dataDIR=\"../../Clipped-MYD/outfile.nc\"\n",
    "data = xr.open_dataset(dataDIR)\n",
    "\n",
    "# cloud_T=data.Cloud_Top_Temperature_Mean.sel(time='2005-03-01T00:00:00.000000000')\n",
    "# cloud_p=data.Cloud_Top_Pressure_Mean.sel(time='2005-03-01T00:00:00.000000000')\n",
    "# re=data.Cloud_Effective_Radius_Liquid_Mean.sel(time='2005-03-01T00:00:00.000000000')\n",
    "# tau=data.Cloud_Optical_Thickness_Combined_Mean.sel(time='2005-03-01T00:00:00.000000000')\n",
    "\n",
    "\n",
    "cloud_T=data.Cloud_Top_Temperature_Mean\n",
    "cloud_p=data.Cloud_Top_Pressure_Mean\n",
    "re=data.Cloud_Effective_Radius_Liquid_Mean\n",
    "tau=data.Cloud_Optical_Thickness_Combined_Mean\n",
    "\n",
    "cloud_T=cloud_T[:,:,:].astype(np.double)\n",
    "cloud_p=cloud_p[:,:,:].astype(np.double)\n",
    "re=re[:,:,:].astype(np.double)\n",
    "tau=tau[:,:,:].astype(np.double)\n",
    "\n",
    "Nd=estimation_of_Nd(cloud_T,cloud_p,tau,re)\n",
    "\n",
    "Nd.to_netcdf(\"Nd.nc\")\n"
   ]
  },
  {
   "cell_type": "code",
   "execution_count": null,
   "metadata": {},
   "outputs": [],
   "source": []
  }
 ],
 "metadata": {
  "kernelspec": {
   "display_name": "Python 3.10.6 ('CLIMATE_SCIENCE')",
   "language": "python",
   "name": "python3"
  },
  "language_info": {
   "codemirror_mode": {
    "name": "ipython",
    "version": 3
   },
   "file_extension": ".py",
   "mimetype": "text/x-python",
   "name": "python",
   "nbconvert_exporter": "python",
   "pygments_lexer": "ipython3",
   "version": "3.10.6"
  },
  "orig_nbformat": 4,
  "vscode": {
   "interpreter": {
    "hash": "07b86caa93fadaa61f04e6b621513b8b6f4b7cc85bf00bd26e84ad3c3830db61"
   }
  }
 },
 "nbformat": 4,
 "nbformat_minor": 2
}
