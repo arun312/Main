{
 "cells": [
  {
   "cell_type": "markdown",
   "metadata": {},
   "source": [
    "# Estimation of Nd from MoDIS Dataset"
   ]
  },
  {
   "cell_type": "markdown",
   "metadata": {},
   "source": [
    "### 19-10-2022 <br>\n",
    "#### Clipping of NetCDF to Shape File"
   ]
  },
  {
   "cell_type": "code",
   "execution_count": 1,
   "metadata": {},
   "outputs": [
    {
     "name": "stderr",
     "output_type": "stream",
     "text": [
      "/Volumes/ACIML/ProgramFiles/Anaconda/anaconda3/envs/CLIMATE_SCIENCE/lib/python3.10/site-packages/geopandas/_compat.py:112: UserWarning: The Shapely GEOS version (3.10.3-CAPI-1.16.1) is incompatible with the GEOS version PyGEOS was compiled with (3.11.0-CAPI-1.17.0). Conversions between both will be slow.\n",
      "  warnings.warn(\n"
     ]
    }
   ],
   "source": [
    "#Imports\n",
    "import os,sys #user to create and modify file name and save it\n",
    "from netCDF4 import Dataset#to read the .nc files\n",
    "import pandas as pd #for dataframe activities\n",
    "from datetime import datetime,timedelta #for the time related activities\n",
    "import matplotlib.pyplot as plt #for the Ploting purpose\n",
    "import numpy as np #numerical fucntions\n",
    "import datetime \n",
    "import warnings #to ignore unnecessary warnings\n",
    "import xarray as xr\n",
    "import numpy as np\n",
    "import regionmask\n",
    "import geopandas as gp\n",
    "warnings.filterwarnings('ignore')"
   ]
  },
  {
   "cell_type": "code",
   "execution_count": 2,
   "metadata": {},
   "outputs": [
    {
     "data": {
      "text/html": [
       "<div>\n",
       "<style scoped>\n",
       "    .dataframe tbody tr th:only-of-type {\n",
       "        vertical-align: middle;\n",
       "    }\n",
       "\n",
       "    .dataframe tbody tr th {\n",
       "        vertical-align: top;\n",
       "    }\n",
       "\n",
       "    .dataframe thead th {\n",
       "        text-align: right;\n",
       "    }\n",
       "</style>\n",
       "<table border=\"1\" class=\"dataframe\">\n",
       "  <thead>\n",
       "    <tr style=\"text-align: right;\">\n",
       "      <th></th>\n",
       "      <th>scalerank</th>\n",
       "      <th>featurecla</th>\n",
       "      <th>min_zoom</th>\n",
       "      <th>geometry</th>\n",
       "    </tr>\n",
       "  </thead>\n",
       "  <tbody>\n",
       "    <tr>\n",
       "      <th>0</th>\n",
       "      <td>0</td>\n",
       "      <td>Ocean</td>\n",
       "      <td>0.0</td>\n",
       "      <td>POLYGON ((91.83490 22.18292, 92.02533 21.70172...</td>\n",
       "    </tr>\n",
       "  </tbody>\n",
       "</table>\n",
       "</div>"
      ],
      "text/plain": [
       "   scalerank featurecla  min_zoom  \\\n",
       "0          0      Ocean       0.0   \n",
       "\n",
       "                                            geometry  \n",
       "0  POLYGON ((91.83490 22.18292, 92.02533 21.70172...  "
      ]
     },
     "execution_count": 2,
     "metadata": {},
     "output_type": "execute_result"
    }
   ],
   "source": [
    "#Reading the shape file\n",
    "\n",
    "shapefile =\"/Volumes/ACIML/Main/SHPs/BOB_OCEAN/BOB_OCEAN.shp\"\n",
    "countries=gp.read_file(shapefile,engine='pyogrio')\n",
    "countries"
   ]
  },
  {
   "cell_type": "code",
   "execution_count": null,
   "metadata": {},
   "outputs": [],
   "source": [
    "fig, ax =plt.subplots(figsize=(16,10))\n",
    "countries.plot(ax=ax,column='featurecla') "
   ]
  },
  {
   "cell_type": "code",
   "execution_count": null,
   "metadata": {},
   "outputs": [],
   "source": [
    "c_list=list(countries['featurecla'])\n",
    "c_list_unique=set(list(countries['featurecla']))\n",
    "indexes=[c_list.index(x) for x in c_list_unique]"
   ]
  },
  {
   "cell_type": "code",
   "execution_count": null,
   "metadata": {},
   "outputs": [],
   "source": [
    "# countries_mask_poly=regionmask.Regions_cls(name='featurecla',numbers=i)"
   ]
  },
  {
   "cell_type": "code",
   "execution_count": null,
   "metadata": {},
   "outputs": [],
   "source": [
    "#Reading the file from directory\n",
    "# data=Dataset(\"/Volumes/PtatoBasket/Datasets/Sample MYD/MYD08_D3.A2005002.061.2018018133541.hdf\",'r')\n",
    "# print('Available Variables')\n",
    "# print(data.variables.keys())"
   ]
  }
 ],
 "metadata": {
  "kernelspec": {
   "display_name": "Python 3.10.6 ('CLIMATE_SCIENCE')",
   "language": "python",
   "name": "python3"
  },
  "language_info": {
   "codemirror_mode": {
    "name": "ipython",
    "version": 3
   },
   "file_extension": ".py",
   "mimetype": "text/x-python",
   "name": "python",
   "nbconvert_exporter": "python",
   "pygments_lexer": "ipython3",
   "version": "3.10.6"
  },
  "orig_nbformat": 4,
  "vscode": {
   "interpreter": {
    "hash": "07b86caa93fadaa61f04e6b621513b8b6f4b7cc85bf00bd26e84ad3c3830db61"
   }
  }
 },
 "nbformat": 4,
 "nbformat_minor": 2
}
