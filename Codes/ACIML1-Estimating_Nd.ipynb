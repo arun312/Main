{
 "cells": [
  {
   "cell_type": "markdown",
   "metadata": {},
   "source": [
    "# Estimation of Nd from MoDIS Dataset"
   ]
  },
  {
   "cell_type": "markdown",
   "metadata": {},
   "source": [
    "### 19-10-2022 <br>\n",
    "#### Clipping of NetCDF to Shape File"
   ]
  },
  {
   "cell_type": "code",
   "execution_count": 2,
   "metadata": {},
   "outputs": [],
   "source": [
    "#Imports\n",
    "import os,sys #user to create and modify file name and save it\n",
    "from netCDF4 import Dataset#to read the .nc files\n",
    "import pandas as pd #for dataframe activities\n",
    "from datetime import datetime,timedelta #for the time related activities\n",
    "import matplotlib.pyplot as plt #for the Ploting purpose\n",
    "import numpy as np #numerical fucntions\n",
    "import datetime \n",
    "import warnings #to ignore unnecessary warnings\n",
    "import xarray as xr\n",
    "import numpy as np\n",
    "import regionmask\n",
    "import geopandas as gpd\n",
    "warnings.filterwarnings('ignore')"
   ]
  },
  {
   "cell_type": "code",
   "execution_count": 3,
   "metadata": {},
   "outputs": [
    {
     "ename": "",
     "evalue": "",
     "output_type": "error",
     "traceback": [
      "The Kernel crashed while executing code in the the current cell or a previous cell. Please review the code in the cell(s) to identify a possible cause of the failure. Click <a href='https://aka.ms/vscodeJupyterKernelCrash'>here</a> for more info. View Jupyter <a href='command:jupyter.viewOutput'>log</a> for further details."
     ]
    },
    {
     "ename": "",
     "evalue": "",
     "output_type": "error",
     "traceback": [
      "\u001b[1;31mCanceled future for execute_request message before replies were done"
     ]
    }
   ],
   "source": [
    "#Reading the shape file\n",
    "shapefile =\"../SHPs/BOB_OCEAN/BOB_OCEAN.shp\"\n",
    "countries=gpd.read_file(shapefile)\n",
    "countries"
   ]
  },
  {
   "cell_type": "code",
   "execution_count": 3,
   "metadata": {},
   "outputs": [
    {
     "data": {
      "text/plain": [
       "<AxesSubplot: >"
      ]
     },
     "execution_count": 3,
     "metadata": {},
     "output_type": "execute_result"
    },
    {
     "data": {
      "image/png": "[encoded data removed]",
      "text/plain": [
       "<Figure size 1152x720 with 1 Axes>"
      ]
     },
     "metadata": {
      "needs_background": "light"
     },
     "output_type": "display_data"
    }
   ],
   "source": [
    "fig, ax =plt.subplots(figsize=(16,10))\n",
    "countries.plot(ax=ax,column='featurecla') "
   ]
  },
  {
   "cell_type": "code",
   "execution_count": 2,
   "metadata": {},
   "outputs": [
    {
     "ename": "NameError",
     "evalue": "name 'countries' is not defined",
     "output_type": "error",
     "traceback": [
      "\u001b[0;31m---------------------------------------------------------------------------\u001b[0m",
      "\u001b[0;31mNameError\u001b[0m                                 Traceback (most recent call last)",
      "\u001b[1;32m/Volumes/ACIML/Main/Codes/ACIML1-Estimating_Nd.ipynb Cell 6\u001b[0m in \u001b[0;36m<cell line: 1>\u001b[0;34m()\u001b[0m\n\u001b[0;32m----> <a href='vscode-notebook-cell:/Volumes/ACIML/Main/Codes/ACIML1-Estimating_Nd.ipynb#X11sZmlsZQ%3D%3D?line=0'>1</a>\u001b[0m c_list\u001b[39m=\u001b[39m\u001b[39mlist\u001b[39m(countries[\u001b[39m'\u001b[39m\u001b[39mfeaturecla\u001b[39m\u001b[39m'\u001b[39m])\n\u001b[1;32m      <a href='vscode-notebook-cell:/Volumes/ACIML/Main/Codes/ACIML1-Estimating_Nd.ipynb#X11sZmlsZQ%3D%3D?line=1'>2</a>\u001b[0m c_list_unique\u001b[39m=\u001b[39m\u001b[39mset\u001b[39m(\u001b[39mlist\u001b[39m(countries[\u001b[39m'\u001b[39m\u001b[39mfeaturecla\u001b[39m\u001b[39m'\u001b[39m]))\n\u001b[1;32m      <a href='vscode-notebook-cell:/Volumes/ACIML/Main/Codes/ACIML1-Estimating_Nd.ipynb#X11sZmlsZQ%3D%3D?line=2'>3</a>\u001b[0m indexes\u001b[39m=\u001b[39m[c_list\u001b[39m.\u001b[39mindex(x) \u001b[39mfor\u001b[39;00m x \u001b[39min\u001b[39;00m c_list_unique]\n",
      "\u001b[0;31mNameError\u001b[0m: name 'countries' is not defined"
     ]
    }
   ],
   "source": [
    "c_list=list(countries['featurecla'])\n",
    "c_list_unique=set(list(countries['featurecla']))\n",
    "indexes=[c_list.index(x) for x in c_list_unique]"
   ]
  },
  {
   "cell_type": "code",
   "execution_count": null,
   "metadata": {},
   "outputs": [],
   "source": [
    "countries_mask_poly=regionmask.Regions_cls(name='featurecla',numbers=i)"
   ]
  },
  {
   "cell_type": "code",
   "execution_count": 22,
   "metadata": {},
   "outputs": [
    {
     "ename": "OSError",
     "evalue": "[Errno -128] NetCDF: Attempt to use feature that was not turned on when netCDF was built.: b'/Volumes/PtatoBasket/Datasets/Sample MYD/MYD08_D3.A2005002.061.2018018133541.hdf'",
     "output_type": "error",
     "traceback": [
      "\u001b[0;31m---------------------------------------------------------------------------\u001b[0m",
      "\u001b[0;31mOSError\u001b[0m                                   Traceback (most recent call last)",
      "\u001b[1;32m/Volumes/ACIML/Main/Codes/ACIML1-Estimating_Nd.ipynb Cell 4\u001b[0m in \u001b[0;36m<cell line: 2>\u001b[0;34m()\u001b[0m\n\u001b[1;32m      <a href='vscode-notebook-cell:/Volumes/ACIML/Main/Codes/ACIML1-Estimating_Nd.ipynb#W5sZmlsZQ%3D%3D?line=0'>1</a>\u001b[0m \u001b[39m#Reading the file from directory\u001b[39;00m\n\u001b[0;32m----> <a href='vscode-notebook-cell:/Volumes/ACIML/Main/Codes/ACIML1-Estimating_Nd.ipynb#W5sZmlsZQ%3D%3D?line=1'>2</a>\u001b[0m data\u001b[39m=\u001b[39mDataset(\u001b[39m\"\u001b[39;49m\u001b[39m/Volumes/PtatoBasket/Datasets/Sample MYD/MYD08_D3.A2005002.061.2018018133541.hdf\u001b[39;49m\u001b[39m\"\u001b[39;49m,\u001b[39m'\u001b[39;49m\u001b[39mr\u001b[39;49m\u001b[39m'\u001b[39;49m)\n\u001b[1;32m      <a href='vscode-notebook-cell:/Volumes/ACIML/Main/Codes/ACIML1-Estimating_Nd.ipynb#W5sZmlsZQ%3D%3D?line=2'>3</a>\u001b[0m \u001b[39mprint\u001b[39m(\u001b[39m'\u001b[39m\u001b[39mAvailable Variables\u001b[39m\u001b[39m'\u001b[39m)\n\u001b[1;32m      <a href='vscode-notebook-cell:/Volumes/ACIML/Main/Codes/ACIML1-Estimating_Nd.ipynb#W5sZmlsZQ%3D%3D?line=3'>4</a>\u001b[0m \u001b[39mprint\u001b[39m(data\u001b[39m.\u001b[39mvariables\u001b[39m.\u001b[39mkeys())\n",
      "File \u001b[0;32msrc/netCDF4/_netCDF4.pyx:2463\u001b[0m, in \u001b[0;36mnetCDF4._netCDF4.Dataset.__init__\u001b[0;34m()\u001b[0m\n",
      "File \u001b[0;32msrc/netCDF4/_netCDF4.pyx:2026\u001b[0m, in \u001b[0;36mnetCDF4._netCDF4._ensure_nc_success\u001b[0;34m()\u001b[0m\n",
      "\u001b[0;31mOSError\u001b[0m: [Errno -128] NetCDF: Attempt to use feature that was not turned on when netCDF was built.: b'/Volumes/PtatoBasket/Datasets/Sample MYD/MYD08_D3.A2005002.061.2018018133541.hdf'"
     ]
    }
   ],
   "source": [
    "#Reading the file from directory\n",
    "data=Dataset(\"/Volumes/PtatoBasket/Datasets/Sample MYD/MYD08_D3.A2005002.061.2018018133541.hdf\",'r')\n",
    "print('Available Variables')\n",
    "print(data.variables.keys())"
   ]
  }
 ],
 "metadata": {
  "kernelspec": {
   "display_name": "Python 3.10.6 ('CLIMATE_SCIENCE')",
   "language": "python",
   "name": "python3"
  },
  "language_info": {
   "codemirror_mode": {
    "name": "ipython",
    "version": 3
   },
   "file_extension": ".py",
   "mimetype": "text/x-python",
   "name": "python",
   "nbconvert_exporter": "python",
   "pygments_lexer": "ipython3",
   "version": "3.10.6"
  },
  "orig_nbformat": 4,
  "vscode": {
   "interpreter": {
    "hash": "07b86caa93fadaa61f04e6b621513b8b6f4b7cc85bf00bd26e84ad3c3830db61"
   }
  }
 },
 "nbformat": 4,
 "nbformat_minor": 2
}
