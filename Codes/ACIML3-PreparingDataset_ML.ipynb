{
 "cells": [
  {
   "cell_type": "code",
   "execution_count": 2,
   "metadata": {},
   "outputs": [],
   "source": [
    "import os,sys #user to create and modify file name and save it\n",
    "from netCDF4 import Dataset#to read the .nc files\n",
    "import pandas as pd #for dataframe activities\n",
    "from datetime import datetime,timedelta #for the time related activities\n",
    "import matplotlib.pyplot as plt #for the Ploting purpose\n",
    "import numpy as np #numerical fucntions\n",
    "import datetime \n",
    "import warnings #to ignore unnecessary warnings\n",
    "import xarray as xr\n",
    "import numpy as np\n",
    "import regionmask\n",
    "import geopandas as gp #ReadingShapefile\n",
    "import glob\n",
    "from cartopy import config\n",
    "from pyhdf.SD import SD, SDC\n",
    "# from zmq import ctx_opt_names #for the Ploting purpose\n",
    "warnings.filterwarnings('ignore')"
   ]
  },
  {
   "cell_type": "code",
   "execution_count": 3,
   "metadata": {},
   "outputs": [],
   "source": [
    "\n",
    "from scipy.interpolate import griddata\n",
    "min_lon = 78.00\n",
    "max_lon = 96.00\n",
    "min_lat = 8.00\n",
    "max_lat = 23.00\n",
    "\n",
    "xi=np.arange(min_lon,max_lon+1,1)\n",
    "yi=np.arange(min_lat,max_lat+1,1)"
   ]
  },
  {
   "attachments": {},
   "cell_type": "markdown",
   "metadata": {},
   "source": [
    "## for Vetical Velocity"
   ]
  },
  {
   "cell_type": "code",
   "execution_count": 27,
   "metadata": {},
   "outputs": [],
   "source": [
    "\n",
    "os.chdir('/Volumes/PtatoBasket/Datasets/ERA5/VerticalVelocity/')\n",
    "#Creating Mask File\n",
    "shapefile =\"/Volumes/ACIML/Main/SHPs/BOB_OCEAN/BOB_OCEAN.shp\"\n",
    "countries=gp.read_file(shapefile,engine='pyogrio')\n",
    "c_list=list(countries['featurecla'])\n",
    "c_list_unique=set(list(countries['featurecla']))\n",
    "indexes=[c_list.index(x) for x in c_list_unique]\n",
    "countries_mask_poly=regionmask.Regions(outlines=countries.geometry[indexes],name='featurecla',numbers=indexes,names=countries.featurecla[indexes])\n",
    "\n",
    "# PreMon\n",
    "file='PreMonDaily_VerticalVelocity.nc'\n",
    "ds=xr.open_dataset(file)\n",
    "ds=ds.reindex(latitude=list(reversed(ds.latitude)))\n",
    "wi=ds.w\n",
    "mask=countries_mask_poly.mask(wi,lat_name='latitude',lon_name='longitude')\n",
    "masked_shape=wi.where(mask==0)\n",
    "masked_shape=masked_shape.interp(latitude=yi).interp(longitude=xi)\n",
    "masked_shape.to_netcdf('FPreMonDaily_VerticalVelocity1.nc')\n",
    "\n",
    "# Winter\n",
    "file='WinterDaily_VerticalVelocity.nc'\n",
    "ds=xr.open_dataset(file)\n",
    "ds=ds.reindex(latitude=list(reversed(ds.latitude)))\n",
    "wi=ds.w[1:,:,:]\n",
    "masked_shape=masked_shape.where(mask==0)\n",
    "masked_shape=masked_shape.interp(latitude=yi).interp(longitude=xi)\n",
    "masked_shape.to_netcdf('FWinterDaily_VerticalVelocity1.nc')"
   ]
  },
  {
   "attachments": {},
   "cell_type": "markdown",
   "metadata": {},
   "source": [
    "## for LTS\n",
    "<img  width=400 src=\"../formulas/LTS.png\">\n",
    "<br>\n",
    "<img  width=400 src=\"../formulas/pot_temp.png\">\n"
   ]
  },
  {
   "attachments": {},
   "cell_type": "markdown",
   "metadata": {},
   "source": [
    "Calculating LTS"
   ]
  },
  {
   "cell_type": "code",
   "execution_count": null,
   "metadata": {},
   "outputs": [],
   "source": [
    "os.chdir('/Volumes/PtatoBasket/Datasets/ERA5/LTS/')\n",
    "\n",
    "# PreMon\n",
    "file='PreMonDaily_T700.nc'\n",
    "ds=xr.open_dataset(file)\n",
    "t700=ds.t\n",
    "theta700=t700*np.power((1000/700),.286)\n",
    "\n",
    "file='PreMonDaily_T1000.nc'\n",
    "ds=xr.open_dataset(file)\n",
    "theta1000=ds.t\n",
    "\n",
    "LTS_Premon=theta700-theta1000\n",
    "LTS_Premon.to_netcdf('PreMonDaily_LTS.nc')\n",
    "\n",
    "\n",
    "# Winter\n",
    "file='WinterDaily_T700.nc'\n",
    "ds=xr.open_dataset(file)\n",
    "t700=ds.t\n",
    "theta700=t700*np.power((1000/700),.286)\n",
    "\n",
    "file='WinterDaily_T1000.nc'\n",
    "ds=xr.open_dataset(file)\n",
    "theta1000=ds.t\n",
    "\n",
    "LTS_Premon=theta700-theta1000\n",
    "LTS_Premon.to_netcdf('WinterDaily_LTS.nc')"
   ]
  },
  {
   "attachments": {},
   "cell_type": "markdown",
   "metadata": {},
   "source": [
    "Regridding and clipping"
   ]
  },
  {
   "cell_type": "code",
   "execution_count": 28,
   "metadata": {},
   "outputs": [],
   "source": [
    "\n",
    "os.chdir('/Volumes/PtatoBasket/Datasets/ERA5/LTS/')\n",
    "#Creating Mask File\n",
    "shapefile =\"/Volumes/ACIML/Main/SHPs/BOB_OCEAN/BOB_OCEAN.shp\"\n",
    "countries=gp.read_file(shapefile,engine='pyogrio')\n",
    "c_list=list(countries['featurecla'])\n",
    "c_list_unique=set(list(countries['featurecla']))\n",
    "indexes=[c_list.index(x) for x in c_list_unique]\n",
    "countries_mask_poly=regionmask.Regions(outlines=countries.geometry[indexes],name='featurecla',numbers=indexes,names=countries.featurecla[indexes])\n",
    "\n",
    "# PreMon\n",
    "file='PreMonDaily_LTS.nc'\n",
    "ds=xr.open_dataset(file)\n",
    "ds=ds.reindex(latitude=list(reversed(ds.latitude)))\n",
    "wi=ds.t\n",
    "mask=countries_mask_poly.mask(wi,lat_name='latitude',lon_name='longitude')\n",
    "masked_shape=wi.where(mask==0)\n",
    "masked_shape=masked_shape.interp(latitude=yi).interp(longitude=xi)\n",
    "masked_shape.to_netcdf('FPreMonDaily_LTS.nc')\n",
    "\n",
    "# Winter\n",
    "file='WinterDaily_LTS.nc'\n",
    "ds=xr.open_dataset(file)\n",
    "ds=ds.reindex(latitude=list(reversed(ds.latitude)))\n",
    "wi=ds.t[1:,:,:]\n",
    "masked_shape=wi.where(mask==0)\n",
    "wi=masked_shape.interp(latitude=yi).interp(longitude=xi)\n",
    "wi.to_netcdf('FWinterDaily_LTS.nc')"
   ]
  },
  {
   "attachments": {},
   "cell_type": "markdown",
   "metadata": {},
   "source": [
    "## For RH/Uwind850/Vwind850"
   ]
  },
  {
   "cell_type": "code",
   "execution_count": 29,
   "metadata": {},
   "outputs": [],
   "source": [
    "\n",
    "os.chdir('/Volumes/PtatoBasket/Datasets/ERA5/RH750/')\n",
    "#Creating Mask File\n",
    "shapefile =\"/Volumes/ACIML/Main/SHPs/BOB_OCEAN/BOB_OCEAN.shp\"\n",
    "countries=gp.read_file(shapefile,engine='pyogrio')\n",
    "c_list=list(countries['featurecla'])\n",
    "c_list_unique=set(list(countries['featurecla']))\n",
    "indexes=[c_list.index(x) for x in c_list_unique]\n",
    "countries_mask_poly=regionmask.Regions(outlines=countries.geometry[indexes],name='featurecla',numbers=indexes,names=countries.featurecla[indexes])\n",
    "\n",
    "# PreMon\n",
    "file='PreMonDaily_RH750.nc'\n",
    "ds=xr.open_dataset(file)\n",
    "ds=ds.reindex(latitude=list(reversed(ds.latitude)))\n",
    "wi=ds.r\n",
    "mask=countries_mask_poly.mask(wi,lat_name='latitude',lon_name='longitude')\n",
    "masked_shape=wi.where(mask==0)\n",
    "wi=masked_shape.interp(latitude=yi).interp(longitude=xi)\n",
    "wi.to_netcdf('FPreMonDaily_RH750.nc')\n",
    "\n",
    "# Winter\n",
    "file='WinterDaily_RH750.nc'\n",
    "ds=xr.open_dataset(file)\n",
    "ds=ds.reindex(latitude=list(reversed(ds.latitude)))\n",
    "w=ds.r[1:,:,:]\n",
    "masked_shape=wi.where(mask==0)\n",
    "wi=masked_shape.interp(latitude=yi).interp(longitude=xi)\n",
    "wi.to_netcdf('FWinterDaily_RH750.nc')"
   ]
  },
  {
   "attachments": {},
   "cell_type": "markdown",
   "metadata": {},
   "source": [
    "### For MeanWind and WindDirection"
   ]
  },
  {
   "cell_type": "code",
   "execution_count": 6,
   "metadata": {},
   "outputs": [],
   "source": [
    "\n",
    "\n",
    "os.chdir('/Volumes/PtatoBasket/Datasets/ERA5/')\n",
    "file='/Volumes/PtatoBasket/Datasets/ERA5/U-Wind/FPreMonDaily_Uwind850.nc'\n",
    "ds=xr.open_dataset(file)\n",
    "u=ds.u\n",
    "\n",
    "file='/Volumes/PtatoBasket/Datasets/ERA5/V-Wind/FPreMonDaily_Vwind850.nc'\n",
    "ds=xr.open_dataset(file)\n",
    "v=ds.v\n",
    "# Compute the wind speed\n",
    "wind_speed = np.sqrt(u**2 + v**2)\n",
    "\n",
    "# Compute the wind direction (in degrees)\n",
    "wind_dir = np.degrees(np.arctan2(u, v))\n",
    "\n",
    "# The wind direction is measured counterclockwise from east,\n",
    "# so if you want it to be measured clockwise from north,\n",
    "# you can add 360 to negative values and take the modulo 360.\n",
    "wind_dir = (wind_dir + 360) % 360\n",
    "\n",
    "wind_speed.to_netcdf('FPreMonDaily_MeanWind850.nc')\n",
    "wind_dir.to_netcdf('FPreMonDaily_WindDir850.nc')"
   ]
  },
  {
   "attachments": {},
   "cell_type": "markdown",
   "metadata": {},
   "source": [
    "### For RH-averaged"
   ]
  },
  {
   "cell_type": "code",
   "execution_count": 5,
   "metadata": {},
   "outputs": [],
   "source": [
    "\n",
    "# PreMon\n",
    "os.chdir('/Volumes/PtatoBasket/Dataset_New/ERA-5 RH/PreMon')\n",
    "file='PreMonDaily_RHavg.nc'\n",
    "ds=xr.open_dataset(file)\n",
    "ds=ds.reindex(latitude=list(reversed(ds.latitude)))\n",
    "wi=ds.r\n",
    "wi=wi.interp(latitude=yi).interp(longitude=xi)\n",
    "wi.to_netcdf('FPreMonDaily_RHavg.nc')\n"
   ]
  },
  {
   "attachments": {},
   "cell_type": "markdown",
   "metadata": {},
   "source": [
    "## For MERRA2 AOD and AI"
   ]
  },
  {
   "cell_type": "code",
   "execution_count": 30,
   "metadata": {},
   "outputs": [],
   "source": [
    "\n",
    "os.chdir('/Volumes/PtatoBasket/Datasets/MERRA2/')\n",
    "#Creating Mask File\n",
    "shapefile =\"/Volumes/ACIML/Main/SHPs/BOB_OCEAN/BOB_OCEAN.shp\"\n",
    "countries=gp.read_file(shapefile,engine='pyogrio')\n",
    "c_list=list(countries['featurecla'])\n",
    "c_list_unique=set(list(countries['featurecla']))\n",
    "indexes=[c_list.index(x) for x in c_list_unique]\n",
    "countries_mask_poly=regionmask.Regions(outlines=countries.geometry[indexes],name='featurecla',numbers=indexes,names=countries.featurecla[indexes])\n",
    "\n",
    "# PreMon\n",
    "file='MERRA-PreMon.nc'\n",
    "wi=xr.open_dataset(file)\n",
    "mask=countries_mask_poly.mask(wi,lat_name='lat',lon_name='lon')\n",
    "masked_shape=wi.where(mask==0)\n",
    "masked_shape=masked_shape.interp(lat=yi).interp(lon=xi)\n",
    "masked_shape.to_netcdf('FPreMonDaily_AODAI.nc')\n",
    "\n",
    "# Winter\n",
    "file='MERRA-Winter.nc'\n",
    "wi=xr.open_dataset(file)\n",
    "mask=countries_mask_poly.mask(wi,lat_name='lat',lon_name='lon')\n",
    "masked_shape=wi.where(mask==0)\n",
    "masked_shape=masked_shape.interp(lat=yi).interp(lon=xi)\n",
    "masked_shape.to_netcdf('FWinterDaily_AODAI.nc')\n"
   ]
  },
  {
   "attachments": {},
   "cell_type": "markdown",
   "metadata": {},
   "source": [
    "### For Making a group with smoke and dust aerosol groups"
   ]
  },
  {
   "cell_type": "code",
   "execution_count": 16,
   "metadata": {},
   "outputs": [],
   "source": [
    "os.chdir('/Volumes/PtatoBasket/Datasets/MERRA2/')\n",
    "file='Composites/N_MERRA-PreMon.nc'\n",
    "ds=xr.open_dataset(file)\n",
    "ds=ds.interp(lat=yi).interp(lon=xi)\n",
    "\n",
    "sm=ds.BC_AOD+ds.OC_AOD+ds.SULFATE_AOD\n",
    "dst=ds.SEASALT_AOD+ds.DUST_AOD\n",
    "\n",
    "sm.to_netcdf('FPreMonDaily_SMOKEAOD.nc')\n",
    "dst.to_netcdf('FPreMonDaily_DUSTAOD.nc')\n",
    "\n"
   ]
  },
  {
   "attachments": {},
   "cell_type": "markdown",
   "metadata": {},
   "source": [
    "### For PBLH"
   ]
  },
  {
   "attachments": {},
   "cell_type": "markdown",
   "metadata": {},
   "source": [
    "NPreparing dataset is done in a temporary code same as that of RH"
   ]
  },
  {
   "cell_type": "code",
   "execution_count": 10,
   "metadata": {},
   "outputs": [],
   "source": [
    "os.chdir('/Volumes/PtatoBasket/Dataset_New/PBLH')\n",
    "file='PreMonDaily_PBLH.nc'\n",
    "ds=xr.open_dataset(file)\n",
    "ds=ds.interp(lat=yi).interp(lon=xi)\n",
    "ds.to_netcdf('FPreMonDaily_PBLH.nc')\n"
   ]
  },
  {
   "attachments": {},
   "cell_type": "markdown",
   "metadata": {},
   "source": [
    "# FOR IMGERG Precipitation"
   ]
  },
  {
   "cell_type": "code",
   "execution_count": 12,
   "metadata": {},
   "outputs": [],
   "source": [
    "os.chdir('/Volumes/PtatoBasket/Dataset_New/IMERG/')\n",
    "file='PreMonDaily_IMGERG.nc4'\n",
    "ds=xr.open_dataset(file)\n",
    "\n",
    "#Creating Mask\n",
    "shapefile =\"/Volumes/ACIML/Main/SHPs/BOB_OCEAN/BOB_OCEAN.shp\"\n",
    "countries=gp.read_file(shapefile,engine='pyogrio')\n",
    "c_list=list(countries['featurecla'])\n",
    "c_list_unique=set(list(countries['featurecla']))\n",
    "indexes=[c_list.index(x) for x in c_list_unique]\n",
    "countries_mask_poly=regionmask.Regions(outlines=countries.geometry[indexes],name='featurecla',numbers=indexes,names=countries.featurecla[indexes])\n",
    "mask=countries_mask_poly.mask(ds,lat_name='lat',lon_name='lon')\n",
    "\n",
    "masked_shape=ds.where(mask==0)\n",
    "ds=masked_shape.interp(lat=yi).interp(lon=xi)\n",
    "precip=ds.precipitationCal\n",
    "\n",
    "precip.to_netcdf('FPreMonDaily_Precip.nc')"
   ]
  },
  {
   "attachments": {},
   "cell_type": "markdown",
   "metadata": {},
   "source": [
    "# For MODIS"
   ]
  },
  {
   "cell_type": "code",
   "execution_count": 34,
   "metadata": {},
   "outputs": [],
   "source": [
    "\n",
    "os.chdir('/Volumes/PtatoBasket/Datasets/MODIS/')\n",
    "#Creating Mask File\n",
    "shapefile =\"/Volumes/ACIML/Main/SHPs/BOB_OCEAN/BOB_OCEAN.shp\"\n",
    "countries=gp.read_file(shapefile,engine='pyogrio')\n",
    "c_list=list(countries['featurecla'])\n",
    "c_list_unique=set(list(countries['featurecla']))\n",
    "indexes=[c_list.index(x) for x in c_list_unique]\n",
    "countries_mask_poly=regionmask.Regions(outlines=countries.geometry[indexes],name='featurecla',numbers=indexes,names=countries.featurecla[indexes])\n",
    "\n",
    "# PreMon\n",
    "file='FINAL_MODIS_PreMon.nc'\n",
    "wi=xr.open_dataset(file)\n",
    "mask=countries_mask_poly.mask(wi,lat_name='latitude',lon_name='longitude')\n",
    "masked_shape=wi.where(mask==0)\n",
    "masked_shape=masked_shape.interp(latitude=yi).interp(longitude=xi)\n",
    "masked_shape.to_netcdf('FPreMonDaily_4MODIS.nc')\n",
    "\n",
    "# Winter\n",
    "file='FINAL_MODIS_Winter.nc'\n",
    "wi=xr.open_dataset(file)\n",
    "mask=countries_mask_poly.mask(wi,lat_name='latitude',lon_name='longitude')\n",
    "masked_shape=wi.where(mask==0)\n",
    "masked_shape=masked_shape.interp(latitude=yi).interp(longitude=xi)\n",
    "masked_shape.to_netcdf('FWinterDaily_4MODIS.nc')\n"
   ]
  },
  {
   "attachments": {},
   "cell_type": "markdown",
   "metadata": {},
   "source": [
    "## For Precipitable water"
   ]
  },
  {
   "cell_type": "code",
   "execution_count": 14,
   "metadata": {},
   "outputs": [],
   "source": [
    "os.chdir('/Volumes/PtatoBasket/Dataset_New/PrecipitableWater-MODIS/')\n",
    "file='PreMonDaily_PrecipWater.nc'\n",
    "ds=xr.open_dataset(file)\n",
    "ds=ds.interp(latitude=yi).interp(longitude=xi)\n",
    "ds.to_netcdf('FPreMonDaily_PrecipWater.nc')"
   ]
  }
 ],
 "metadata": {
  "kernelspec": {
   "display_name": "CLIMATE_SCIENCE",
   "language": "python",
   "name": "python3"
  },
  "language_info": {
   "codemirror_mode": {
    "name": "ipython",
    "version": 3
   },
   "file_extension": ".py",
   "mimetype": "text/x-python",
   "name": "python",
   "nbconvert_exporter": "python",
   "pygments_lexer": "ipython3",
   "version": "3.10.6"
  },
  "orig_nbformat": 4,
  "vscode": {
   "interpreter": {
    "hash": "07b86caa93fadaa61f04e6b621513b8b6f4b7cc85bf00bd26e84ad3c3830db61"
   }
  }
 },
 "nbformat": 4,
 "nbformat_minor": 2
}
