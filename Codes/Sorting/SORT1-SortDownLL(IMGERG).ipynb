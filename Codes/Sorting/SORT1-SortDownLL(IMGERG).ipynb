{
 "cells": [
  {
   "cell_type": "code",
   "execution_count": 3,
   "metadata": {},
   "outputs": [],
   "source": [
    "# Using readlines()\n",
    "file1 = open('Precipitation_IMGERG.txt', 'r')\n",
    "Lines = file1.readlines()"
   ]
  },
  {
   "cell_type": "code",
   "execution_count": 3,
   "metadata": {},
   "outputs": [],
   "source": [
    "from urllib import request\n",
    "\n",
    "username = \"de_aruno\"\n",
    "password = \"Arun@1999\"\n",
    "\n",
    "redirectHandler = request.HTTPRedirectHandler()\n",
    "cookieProcessor = request.HTTPCookieProcessor()\n",
    "passwordManager = request.HTTPPasswordMgrWithDefaultRealm()\n",
    "passwordManager.add_password(None, \"https://urs.earthdata.nasa.gov\", username, password)\n",
    "authHandler = request.HTTPBasicAuthHandler(passwordManager)\n",
    "opener = request.build_opener(redirectHandler,cookieProcessor,authHandler)\n",
    "request.install_opener(opener)\n"
   ]
  },
  {
   "cell_type": "code",
   "execution_count": null,
   "metadata": {},
   "outputs": [],
   "source": [
    "from datetime import datetime,timedelta\n",
    "errored_link=[]\n",
    "downloaded_days=[]\n",
    "for line in Lines:\n",
    "\n",
    "    # #findingDateNumber(GIOVANNI)\n",
    "\n",
    "    # dd=line.split('.')[5]\n",
    "    # year=int(dd[1:5])\n",
    "    # dnum=int(dd[-3:])\n",
    "    # date=datetime(year, 1, 1) + timedelta(dnum - 1)\n",
    "    # month=date.month\n",
    "\n",
    "    #findingDateNumber(GESDISC)\n",
    "    dd=(line.split('-')[1]).split('.')[4]\n",
    "    month=int(line.split('/')[7])\n",
    "\n",
    "    try:\n",
    "        #CheckingforWinter\n",
    "        if (month==1 or month==2 or month==12):\n",
    "            url = line\n",
    "            filename = \"IMERG/Winter/\"+dd+\".nc4\"\n",
    "            request.urlretrieve(url,filename)\n",
    "            print(dd)\n",
    "            downloaded_days.append(dd)\n",
    "        # #CheckingforPreMon\n",
    "        # if (month==3 or month==4 or month==5):\n",
    "        #     url = line\n",
    "        #     filename = \"IMERG/PreMon/\"+dd+\".nc4\"\n",
    "        #     request.urlretrieve(url,filename)\n",
    "        #     print(dd)\n",
    "        #     downloaded_days.append(dd)\n",
    "    except Exception as e:\n",
    "        print(e)\n",
    "        errored_link.append(line)\n",
    "\n",
    "file = open(\"Errored_link.txt\", \"w+\")\n",
    "for line in errored_link:\n",
    "    file.write(f\"{line}\\n\")\n",
    "file.close()\n"
   ]
  },
  {
   "cell_type": "code",
   "execution_count": 75,
   "metadata": {},
   "outputs": [],
   "source": [
    "import os\n",
    "from datetime import datetime,timedelta,date\n",
    "\n",
    "path='IMERG/Winter'\n",
    "files=os.listdir(path)\n",
    "\n",
    "date_list=[]\n",
    "for yr in range(2005,2022):\n",
    "    month=[1,2,12]\n",
    "    for mon in month:\n",
    "        for day in range(1,32):\n",
    "            try:\n",
    "                d=date(yr,mon,day)\n",
    "                delta=timedelta(days=1)\n",
    "                year=d.year\n",
    "                doy=d.timetuple().tm_yday\n",
    "                doy=\"{:03d}\".format(doy)\n",
    "                # date_list.append('A'+str(year)+str(doy)+'.hdf')#MODIS-GESDISC\n",
    "                date_list.append(d.strftime('%Y%m%d')+'.nc4')#IMGERG/PBLH\n",
    "                d+=delta\n",
    "            except ValueError:\n",
    "                pass\n",
    "                \n",
    "missing_dates=list(set(date_list)-set(files))\n"
   ]
  },
  {
   "cell_type": "code",
   "execution_count": 73,
   "metadata": {},
   "outputs": [],
   "source": [
    "\n",
    "file1 = open('PBLH_MERA2-Winter.txt', 'r')\n",
    "Lines = file1.readlines()\n",
    "\n",
    "missing_links=[]\n",
    "\n",
    "for ml in missing_dates:\n",
    "    ml=ml[0:8]\n",
    "    link=[s for s in Lines if ml in s]\n",
    "    try:\n",
    "        missing_links.append(link[0])\n",
    "    except:\n",
    "        pass\n"
   ]
  },
  {
   "cell_type": "code",
   "execution_count": 67,
   "metadata": {},
   "outputs": [],
   "source": [
    "file = open(\"Errored_link1.txt\", \"w\")\n",
    "for line in missing_links:\n",
    "    file.write(f\"{line}\")\n"
   ]
  },
  {
   "cell_type": "code",
   "execution_count": 79,
   "metadata": {},
   "outputs": [],
   "source": [
    "\n",
    "path='E:/Arun-ACIML/PBLH/Winter'\n",
    "files=os.listdir(path)\n",
    "\n",
    "for file in files:\n",
    "# file=files[1321]\n",
    "    try:\n",
    "        name=file.split('.')[4].split('-')[0]+'.nc4'\n",
    "        os.rename('E:/Arun-ACIML/PBLH/Winter/'+file,'E:/Arun-ACIML/PBLH/Winter/'+name)\n",
    "    except IndexError:\n",
    "        pass\n",
    "    # except FileExistsError:\n",
    "    #     os.remove('E:/Arun-ACIML/PBLH/Winter/'+file)"
   ]
  },
  {
   "cell_type": "code",
   "execution_count": 16,
   "metadata": {},
   "outputs": [
    {
     "data": {
      "text/plain": [
       "'01'"
      ]
     },
     "execution_count": 16,
     "metadata": {},
     "output_type": "execute_result"
    }
   ],
   "source": [
    "from datetime import date, timedelta\n",
    "def year_day_to_date(year, day_of_year):\n",
    "    return date(year, 1, 1) + timedelta(day_of_year - 1)\n",
    "\n",
    "line=\"https://gpm1.gesdisc.eosdis.nasa.gov/opendap/GPM_L3/GPM_3IMERGHH.06/2001/001/3B-HHR.MS.MRG.3IMERG.20010101-S000000-E002959.0000.V06B.HDF5.nc4?precipitationCal[0:0][2632:2652][1113:1123],lat_bnds[1113:1123][0:1],time_bnds[0:0][0:1],lon_bnds[2632:2652][0:1],time,lon[2632:2652],lat[1113:1123],latv,nv,lonv\"\n",
    "dd=line.split('.')[9][:8]\n",
    "\n",
    "# print(year_day_to_date(dd[:4], dd[5:]))\n",
    "month = (dd[4:6])\n",
    "month"
   ]
  },
  {
   "cell_type": "code",
   "execution_count": null,
   "metadata": {},
   "outputs": [],
   "source": []
  }
 ],
 "metadata": {
  "kernelspec": {
   "display_name": "CLIMATE_SCIENCE",
   "language": "python",
   "name": "python3"
  },
  "language_info": {
   "codemirror_mode": {
    "name": "ipython",
    "version": 3
   },
   "file_extension": ".py",
   "mimetype": "text/x-python",
   "name": "python",
   "nbconvert_exporter": "python",
   "pygments_lexer": "ipython3",
   "version": "3.10.6 | packaged by conda-forge | (main, Aug 22 2022, 20:41:54) [Clang 13.0.1 ]"
  },
  "orig_nbformat": 4,
  "vscode": {
   "interpreter": {
    "hash": "07b86caa93fadaa61f04e6b621513b8b6f4b7cc85bf00bd26e84ad3c3830db61"
   }
  }
 },
 "nbformat": 4,
 "nbformat_minor": 2
}
