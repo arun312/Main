{
 "cells": [
  {
   "cell_type": "code",
   "execution_count": 1,
   "metadata": {},
   "outputs": [],
   "source": [
    "#Libraries\n",
    "from sklearn.ensemble import GradientBoostingRegressor\n",
    "import numpy as np\n",
    "import pandas as pd\n",
    "from sklearn.model_selection import train_test_split\n",
    "from sklearn.metrics import mean_squared_error\n",
    "from sklearn.datasets import load_boston\n",
    "from sklearn.metrics import mean_absolute_error\n",
    "from sklearn.metrics import r2_score\n",
    "import warnings\n",
    "warnings.filterwarnings('ignore')"
   ]
  },
  {
   "attachments": {},
   "cell_type": "markdown",
   "metadata": {},
   "source": [
    "## Data Preparation"
   ]
  },
  {
   "cell_type": "code",
   "execution_count": 13,
   "metadata": {},
   "outputs": [],
   "source": [
    "#Loading Data\n",
    "DATA=pd.read_excel(r'ML1-PreMon1.xlsx',sheet_name='Sheet1')\n",
    "y=pd.Series(DATA.LWP)\n",
    "X=DATA.loc[:,~DATA.columns.isin(['LWP','Latitude', 'Longitude'])]"
   ]
  },
  {
   "cell_type": "code",
   "execution_count": 14,
   "metadata": {},
   "outputs": [],
   "source": [
    "#Split dataset into training set and test set\n",
    "X_train,X_test,y_train,y_test=train_test_split(X,y,test_size=0.2)#80% training and 20% test"
   ]
  },
  {
   "attachments": {},
   "cell_type": "markdown",
   "metadata": {},
   "source": [
    "## Model training"
   ]
  },
  {
   "cell_type": "code",
   "execution_count": 51,
   "metadata": {},
   "outputs": [],
   "source": [
    "#Create gradientboost REGRESSOR object\n",
    "gradientregressor=GradientBoostingRegressor(max_depth=8,n_estimators=150,learning_rate=0.05)\n",
    "#Training\n",
    "model=gradientregressor.fit(X_train,y_train)\n",
    "#Testing\n",
    "y_pred=model.predict(X_test)"
   ]
  },
  {
   "cell_type": "code",
   "execution_count": 53,
   "metadata": {},
   "outputs": [
    {
     "data": {
      "text/plain": [
       "0.3307639091591348"
      ]
     },
     "execution_count": 53,
     "metadata": {},
     "output_type": "execute_result"
    }
   ],
   "source": [
    "r2_score(y_test,y_pred)"
   ]
  },
  {
   "cell_type": "code",
   "execution_count": 54,
   "metadata": {},
   "outputs": [
    {
     "data": {
      "image/png": "[encoded data removed]",
      "text/plain": [
       "<Figure size 432x288 with 1 Axes>"
      ]
     },
     "metadata": {
      "needs_background": "light"
     },
     "output_type": "display_data"
    }
   ],
   "source": [
    "import matplotlib.pyplot as plt\n",
    "\n",
    "#plot feature importance\n",
    "feature_importance = model.feature_importances_\n",
    "\n",
    "#make importances relative to mac importance\n",
    "feature_importance=100.0 * (feature_importance/feature_importance.max())\n",
    "sorted_idx=np.argsort(feature_importance)\n",
    "pos=np.arange(sorted_idx.shape[0])+.5\n",
    "plt.barh(pos, feature_importance[sorted_idx],align='center')\n",
    "plt.yticks(pos, DATA.columns[sorted_idx])\n",
    "plt.xlabel('Relative Importance')\n",
    "plt.title('Variable Imporatance')\n",
    "plt.show()"
   ]
  },
  {
   "attachments": {},
   "cell_type": "markdown",
   "metadata": {},
   "source": [
    "## Tuning hyperparameters"
   ]
  },
  {
   "cell_type": "code",
   "execution_count": 55,
   "metadata": {},
   "outputs": [
    {
     "data": {
      "text/plain": [
       "({'learning_rate': 0.05, 'max_depth': 8, 'n_estimators': 150},\n",
       " 0.32037439620738944)"
      ]
     },
     "execution_count": 55,
     "metadata": {},
     "output_type": "execute_result"
    }
   ],
   "source": [
    "from sklearn.model_selection import GridSearchCV\n",
    "LR={'learning_rate':[0.15,0.10,0.05],'n_estimators':[100,150,200,250],'max_depth':[8,12,16,18,20,22,24,26,28,30]}\n",
    "# ({'learning_rate': 0.05, 'n_estimators': 150}, 0.29390349089746487)\n",
    "tuning=GridSearchCV(estimator=GradientBoostingRegressor(),\n",
    "            param_grid=LR,scoring='r2')\n",
    "tuning.fit(X_train,y_train)\n",
    "tuning.best_params_, tuning.best_score_"
   ]
  }
 ],
 "metadata": {
  "kernelspec": {
   "display_name": "Python 3.10.4 ('CS2')",
   "language": "python",
   "name": "python3"
  },
  "language_info": {
   "codemirror_mode": {
    "name": "ipython",
    "version": 3
   },
   "file_extension": ".py",
   "mimetype": "text/x-python",
   "name": "python",
   "nbconvert_exporter": "python",
   "pygments_lexer": "ipython3",
   "version": "3.10.4 | packaged by conda-forge | (main, Mar 30 2022, 08:38:02) [MSC v.1916 64 bit (AMD64)]"
  },
  "orig_nbformat": 4,
  "vscode": {
   "interpreter": {
    "hash": "d4c71082fa3ddc7197cffb7d226770c26641273fae4206d3ae5b276e27bb9432"
   }
  }
 },
 "nbformat": 4,
 "nbformat_minor": 2
}
