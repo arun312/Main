{
 "cells": [
  {
   "cell_type": "code",
   "execution_count": 1,
   "metadata": {},
   "outputs": [],
   "source": [
    "\n",
    "import os,sys #user to create and modify file name and save it\n",
    "import pandas as pd #for dataframe activities\n",
    "from datetime import datetime,timedelta #for the time related activities\n",
    "import matplotlib.pyplot as plt #for the Ploting purpose\n",
    "import numpy as np #numerical fucntions\n",
    "import datetime \n",
    "import warnings #to ignore unnecessary warnings\n",
    "import xarray as xr\n",
    "import numpy as np\n",
    "import regionmask\n",
    "import geopandas as gp #ReadingShapefile\n",
    "import glob                                                                 \n",
    "import xlsxwriter #for writing in Excel\n",
    "warnings.filterwarnings('ignore')"
   ]
  },
  {
   "attachments": {},
   "cell_type": "markdown",
   "metadata": {},
   "source": [
    "#### Data Reading"
   ]
  },
  {
   "cell_type": "code",
   "execution_count": 2,
   "metadata": {},
   "outputs": [],
   "source": [
    "os.chdir('F:/Dataset_New/Nd')\n",
    "ds=xr.open_dataset('Nd_PreMon.nc')\n",
    "Nd=ds.__xarray_dataarray_variable__\n",
    "\n",
    "lon, lat, time=Nd.indexes.values()\n",
    "lat=lat.values\n",
    "lon=lon.values\n"
   ]
  },
  {
   "attachments": {},
   "cell_type": "markdown",
   "metadata": {},
   "source": [
    "### Visualizing the DataPoints"
   ]
  },
  {
   "cell_type": "code",
   "execution_count": 5,
   "metadata": {},
   "outputs": [],
   "source": [
    "import matplotlib.pyplot as plt\n",
    "from cartopy import config\n",
    "import cartopy.crs as ccrs\n",
    "\n",
    "#Makind A Coodinate array\n",
    "coord=[]\n",
    "for x in lon:\n",
    "    for y in lat:\n",
    "        coord.append([x,y])\n",
    "coord=np.array(coord)\n",
    "\n",
    "#Reading the Shape File\n",
    "ax = plt.axes(projection=ccrs.PlateCarree())\n",
    "shapefile =\"E:\\Arun-ACIML\\SHPs\\BOB_OCEAN/BOB_OCEAN.shp\"\n",
    "countries=gp.read_file(shapefile,engine='pyogrio')\n",
    "\n",
    "# Ploting\n",
    "countries.plot(ax=ax,column='featurecla')\n",
    "ax.scatter(coord[:,0],coord[:,1],color='red')\n",
    "\n",
    "#Adjsutments\n",
    "\n",
    "min_lon = 78.00\n",
    "max_lon = 96.00\n",
    "min_lat = 8.00\n",
    "max_lat = 23.00\n",
    "\n",
    "ax.coastlines()\n",
    "ax.set_xlim([min_lon, max_lon])\n",
    "ax.set_ylim([min_lat, max_lat])\n",
    "gridlines = ax.gridlines(draw_labels=True,linewidth=0)\n",
    "gridlines.top_labels = False\n",
    "gridlines.right_labels = False\n",
    "\n",
    "plt.show()"
   ]
  },
  {
   "attachments": {},
   "cell_type": "markdown",
   "metadata": {},
   "source": [
    "# Sorting out datapoints within the AOI"
   ]
  },
  {
   "cell_type": "code",
   "execution_count": 4,
   "metadata": {},
   "outputs": [],
   "source": [
    "shapefile =\"E:\\Arun-ACIML\\SHPs\\BOB_OCEAN/BOB_OCEAN.shp\"\n",
    "countries=gp.read_file(shapefile,engine='pyogrio')\n",
    "\n",
    "#Clipping to shape File and Creating Mask File\n",
    "shapefile =\"E:\\Arun-ACIML\\SHPs\\BOB_OCEAN/BOB_OCEAN.shp\"\n",
    "countries=gp.read_file(shapefile,engine='pyogrio')\n",
    "c_list=list(countries['featurecla'])\n",
    "c_list_unique=set(list(countries['featurecla']))\n",
    "indexes=[c_list.index(x) for x in c_list_unique]\n",
    "countries_mask_poly=regionmask.Regions(outlines=countries.geometry[indexes],name='featurecla',numbers=indexes,names=countries.featurecla[indexes])\n",
    "\n",
    "mask=countries_mask_poly.mask(ds,lat_name='latitude',lon_name='longitude')"
   ]
  },
  {
   "cell_type": "code",
   "execution_count": 5,
   "metadata": {},
   "outputs": [],
   "source": [
    "Nlat=mask.latitude.where(mask==0).values\n",
    "Nlon=mask.longitude.where(mask==0).values.transpose()\n",
    "\n",
    "Llat=Nlat.flatten()\n",
    "Llon=Nlon.flatten()\n",
    "\n",
    "#Collecting the the coordinates\n",
    "Nlat=Llat[~np.isnan(Llat)]\n",
    "Nlon=Llon[~np.isnan(Llon)]"
   ]
  },
  {
   "attachments": {},
   "cell_type": "markdown",
   "metadata": {},
   "source": [
    "### Verifying the datapoints with Reverse engineering"
   ]
  },
  {
   "cell_type": "code",
   "execution_count": 6,
   "metadata": {},
   "outputs": [],
   "source": [
    "# set of latitude and longitude pairs\n",
    "lat_lon_pairs = []\n",
    "for x in range(0,183):\n",
    "    lat_lon_pairs.append((Nlat[x], Nlon[x]))\n",
    "data_values = []\n",
    "\n",
    "# loop over the latitude and longitude pairs\n",
    "for lat, lon in lat_lon_pairs:\n",
    "    # get the indices of the latitude and longitude\n",
    "    lat_index = np.where(mask.latitude == lat)[0][0]\n",
    "    lon_index = np.where(mask.longitude == lon)[0][0]\n",
    "    \n",
    "    # extract the data value using indexing\n",
    "    data_value = mask.values[lat_index, lon_index]\n",
    "    \n",
    "    # append the data value to the list\n",
    "    data_values.append(data_value)\n",
    "\n",
    "data_values"
   ]
  }
 ],
 "metadata": {
  "kernelspec": {
   "display_name": "CS2",
   "language": "python",
   "name": "python3"
  },
  "language_info": {
   "codemirror_mode": {
    "name": "ipython",
    "version": 3
   },
   "file_extension": ".py",
   "mimetype": "text/x-python",
   "name": "python",
   "nbconvert_exporter": "python",
   "pygments_lexer": "ipython3",
   "version": "3.10.4"
  },
  "orig_nbformat": 4,
  "vscode": {
   "interpreter": {
    "hash": "d4c71082fa3ddc7197cffb7d226770c26641273fae4206d3ae5b276e27bb9432"
   }
  }
 },
 "nbformat": 4,
 "nbformat_minor": 2
}
