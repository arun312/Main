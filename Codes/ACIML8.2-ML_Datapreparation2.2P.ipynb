{
 "cells": [
  {
   "cell_type": "code",
   "execution_count": 1,
   "metadata": {},
   "outputs": [],
   "source": [
    "import os,sys #user to create and modify file name and save it\n",
    "import pandas as pd #for dataframe activities\n",
    "from datetime import datetime,timedelta #for the time related activities\n",
    "import matplotlib.pyplot as plt #for the Ploting purpose\n",
    "import numpy as np #numerical fucntions\n",
    "import datetime \n",
    "import warnings #to ignore unnecessary warnings\n",
    "import xarray as xr\n",
    "import numpy as np\n",
    "import regionmask\n",
    "import geopandas as gp #ReadingShapefile\n",
    "import glob                                                                 \n",
    "import xlsxwriter #for writing in Excel\n",
    "warnings.filterwarnings('ignore')"
   ]
  },
  {
   "cell_type": "code",
   "execution_count": 2,
   "metadata": {},
   "outputs": [],
   "source": [
    "from scipy.interpolate import griddata\n",
    "min_lon = 78.00\n",
    "max_lon = 96.00\n",
    "min_lat = 8.00\n",
    "max_lat = 23.00\n",
    "\n",
    "xi=np.arange(min_lon,max_lon+1,1)\n",
    "yi=np.arange(min_lat,max_lat+1,1)"
   ]
  },
  {
   "cell_type": "code",
   "execution_count": 3,
   "metadata": {},
   "outputs": [],
   "source": [
    "shapefile =\"/Volumes/ACIML/Main/SHPs/BOB_OCEAN/BOB_OCEAN.shp\"\n",
    "countries=gp.read_file(shapefile,engine='pyogrio')\n",
    "\n",
    "#Clipping to shape File and Creating Mask File\n",
    "shapefile =\"/Volumes/ACIML/Main/SHPs/BOB_OCEAN/BOB_OCEAN.shp\"\n",
    "countries=gp.read_file(shapefile,engine='pyogrio')\n",
    "c_list=list(countries['featurecla'])\n",
    "c_list_unique=set(list(countries['featurecla']))\n",
    "indexes=[c_list.index(x) for x in c_list_unique]\n",
    "countries_mask_poly=regionmask.Regions(outlines=countries.geometry[indexes],name='featurecla',numbers=indexes,names=countries.featurecla[indexes])\n",
    "\n",
    "\n",
    "# mask=countries_mask_poly.mask(ds,lat_name='latitude',lon_name='longitude')"
   ]
  },
  {
   "attachments": {},
   "cell_type": "markdown",
   "metadata": {},
   "source": [
    "### For ERA"
   ]
  },
  {
   "cell_type": "code",
   "execution_count": 4,
   "metadata": {},
   "outputs": [],
   "source": [
    "#For MeanWind and WindDirection\n",
    "os.chdir('/Volumes/PtatoBasket/ACIML/Datasets/ERA5')\n",
    "file='U-Wind/PreMonDaily_Uwind850.nc'\n",
    "ds=xr.open_dataset(file)\n",
    "ds=ds.reindex(latitude=list(reversed(ds.latitude)))\n",
    "u=ds.u\n",
    "\n",
    "file='V-Wind/PreMonDaily_Vwind850.nc'\n",
    "ds=ds.reindex(latitude=list(reversed(ds.latitude)))\n",
    "ds=xr.open_dataset(file)\n",
    "v=ds.v\n",
    "\n",
    "# Compute the wind speed and direction\n",
    "MW = np.sqrt(u**2 + v**2)\n",
    "WD = np.degrees(np.arctan2(u, v))\n",
    "WD = (WD + 360) % 360\n",
    "\n",
    "var=MW.interp(latitude=yi).interp(longitude=xi)\n",
    "# var=MW.reindex(latitude=yi, longitude=xi, method='nearest')\n",
    "MW_values=var.values.flatten()\n",
    "\n",
    "var=WD.interp(latitude=yi).interp(longitude=xi)\n",
    "# var=WD.reindex(latitude=yi, longitude=xi, method='nearest')\n",
    "\n",
    "WD_values=var.values.flatten()\n",
    "\n"
   ]
  },
  {
   "cell_type": "code",
   "execution_count": 5,
   "metadata": {},
   "outputs": [],
   "source": [
    "#For VerticalWind\n",
    "os.chdir('/Volumes/PtatoBasket/ACIML/Datasets/ERA5/VerticalVelocity')\n",
    "ds=xr.open_dataset('PreMonDaily_VerticalVelocity.nc')\n",
    "ds=ds.reindex(latitude=list(reversed(ds.latitude)))\n",
    "W=ds.w\n",
    "\n",
    "var=W.interp(latitude=yi).interp(longitude=xi)\n",
    "# var=W.reindex(latitude=yi, longitude=xi, method='nearest')\n",
    "W_values=var.values.flatten()"
   ]
  },
  {
   "cell_type": "code",
   "execution_count": 6,
   "metadata": {},
   "outputs": [],
   "source": [
    "#For LTS\n",
    "os.chdir('/Volumes/PtatoBasket/ACIML/Datasets/ERA5/LTS')\n",
    "ds=xr.open_dataset('PreMonDaily_LTS.nc')\n",
    "LTS=ds.t\n",
    "\n",
    "var=LTS.interp(latitude=yi).interp(longitude=xi)\n",
    "# var=LTS.reindex(latitude=yi, longitude=xi, method='nearest')\n",
    "\n",
    "LTS_values=var.values.flatten()"
   ]
  },
  {
   "cell_type": "code",
   "execution_count": 7,
   "metadata": {},
   "outputs": [],
   "source": [
    "#For PBLH\n",
    "os.chdir('/Volumes/PtatoBasket/ACIML/Datasets/PBLH')\n",
    "ds=xr.open_dataset('PreMonDaily_PBLH.nc')\n",
    "PBLH=ds.TCZPBL\n",
    "\n",
    "var=PBLH.interp(lat=yi).interp(lon=xi)\n",
    "# var=PBLH.reindex(lat=yi, lon=xi, method='nearest')\n",
    "PBLH_values=var.values.flatten()"
   ]
  },
  {
   "cell_type": "code",
   "execution_count": 8,
   "metadata": {},
   "outputs": [],
   "source": [
    "#For RH\n",
    "os.chdir('/Volumes/PtatoBasket/ACIML/Datasets/ERA-5 RH/PreMon')\n",
    "ds=xr.open_dataset('PreMonDaily_RHavg.nc')\n",
    "# ds=ds.reindex(latitude=list(reversed(ds.latitude)))\n",
    "RH=ds.r\n",
    "\n",
    "var=RH.interp(latitude=yi).interp(longitude=xi)\n",
    "# var=RH.reindex(latitude=yi, longitude=xi, method='nearest')\n",
    "\n",
    "RH_values=var.values.flatten()"
   ]
  },
  {
   "cell_type": "code",
   "execution_count": 9,
   "metadata": {},
   "outputs": [],
   "source": [
    "#Nd\n",
    "os.chdir('/Volumes/PtatoBasket/ACIML/Datasets/Nd')\n",
    "ds=xr.open_dataset('Nd_PreMon.nc')\n",
    "ds=ds.interp(latitude=yi).interp(longitude=xi)\n",
    "Nd=ds.__xarray_dataarray_variable__\n",
    "\n",
    "Nd_values=Nd.values.flatten()"
   ]
  },
  {
   "attachments": {},
   "cell_type": "markdown",
   "metadata": {},
   "source": [
    "### For Merra"
   ]
  },
  {
   "cell_type": "code",
   "execution_count": 10,
   "metadata": {},
   "outputs": [],
   "source": [
    "os.chdir('/Volumes/PtatoBasket/ACIML/Datasets/MERRA2')\n",
    "file='Composites/N_MERRA-PreMon.nc'\n",
    "ds=xr.open_dataset(file)\n",
    "ds=ds.interp(lat=yi).interp(lon=xi)\n",
    "# ds=ds.reindex(lat=yi, lon=xi, method='nearest')\n",
    "\n",
    "\n",
    "sm=ds.BC_AOD+ds.OC_AOD+ds.SULFATE_AOD\n",
    "dst=ds.SEASALT_AOD+ds.DUST_AOD\n",
    "\n",
    "\n",
    "sm_values=sm.values.flatten()\n",
    "dst_values=dst.values.flatten()\n",
    "\n",
    "\n",
    "# file='MERRA-PreMon.nc'\n",
    "# ds=xr.open_dataset(file)\n",
    "\n",
    "# AOD=ds.AOD\n",
    "# AOD_values=[]\n",
    "# for lat, lon in lat_lon_pairs:\n",
    "#     AOD1=AOD.sel(lon=lon, lat=lat, method='nearest')\n",
    "#     AOD_values=np.append(AOD_values, AOD1.values.flatten())\n",
    "\n"
   ]
  },
  {
   "cell_type": "code",
   "execution_count": 11,
   "metadata": {},
   "outputs": [],
   "source": [
    "# For AI\n",
    "os.chdir('/Volumes/PtatoBasket/ACIML/Datasets/MERRA2')\n",
    "file='MERRA-PreMon.nc'\n",
    "ds=xr.open_dataset(file)\n",
    "ds=ds.interp(lat=yi).interp(lon=xi)\n",
    "# ds=ds.reindex(lat=yi, lon=xi, method='nearest')\n",
    "\n",
    "\n",
    "AI=ds.AI\n",
    "AI_values=AI.values.flatten()"
   ]
  },
  {
   "attachments": {},
   "cell_type": "markdown",
   "metadata": {},
   "source": [
    "### For MODIS"
   ]
  },
  {
   "cell_type": "code",
   "execution_count": 12,
   "metadata": {},
   "outputs": [],
   "source": [
    "# For Cloud Drop Effective Radius\n",
    "os.chdir('/Volumes/PtatoBasket/ACIML/Datasets/MODIS')\n",
    "file='FINAL_MODIS_PreMon.nc'\n",
    "ds=xr.open_dataset(file)\n",
    "ds=ds.interp(latitude=yi).interp(longitude=xi)\n",
    "# ds=ds.reindex(latitude=yi, longitude=xi, method='nearest')\n",
    "\n",
    "\n",
    "CR=ds.Cloud_Effective_Radius_Liquid_Mean\n",
    "CR_values=CR.values.flatten()\n",
    "\n",
    "CTP=ds.Cloud_Top_Pressure_Mean\n",
    "CTP_values=CTP.values.flatten()\n",
    "\n",
    "COT=ds.Cloud_Optical_Thickness_Combined_Mean\n",
    "COT_values=COT.values.flatten()\n",
    "\n",
    "CTT=ds.Cloud_Top_Temperature_Mean\n",
    "CTT_values=CTT.values.flatten()\n",
    "\n",
    "\n",
    "# AOD=ds.AOD_550_Dark_Target_Deep_Blue_Combined_Mean\n",
    "# AOD_values=[]\n",
    "# for lat, lon in lat_lon_pairs:\n",
    "#     AOD1=AOD.sel(longitude=lon, latitude=lat, method='nearest')\n",
    "#     AOD_values=np.append(AOD_values, AOD1.values.flatten())"
   ]
  },
  {
   "cell_type": "code",
   "execution_count": 13,
   "metadata": {},
   "outputs": [],
   "source": [
    "# Liquid Water Path\n",
    "os.chdir('/Volumes/PtatoBasket/ACIML/Datasets/LWP')\n",
    "file='LWP_MODIS_PreMon.nc'\n",
    "ds=xr.open_dataset(file)\n",
    "ds=ds.interp(latitude=yi).interp(longitude=xi)\n",
    "# ds=ds.reindex(latitude=yi, longitude=xi, method='nearest')\n",
    "\n",
    "LWP=ds.LWP\n",
    "LWP_values=LWP.values.flatten()"
   ]
  },
  {
   "cell_type": "code",
   "execution_count": 14,
   "metadata": {},
   "outputs": [],
   "source": [
    "# Precipitable water\n",
    "os.chdir('/Volumes/PtatoBasket/ACIML/Datasets/PrecipitableWater-MODIS')\n",
    "file='PreMonDaily_PrecipWater.nc'\n",
    "ds=xr.open_dataset(file)\n",
    "ds=ds.interp(latitude=yi).interp(longitude=xi)\n",
    "# ds=ds.reindex(latitude=yi, longitude=xi, method='nearest')\n",
    "\n",
    "\n",
    "PW=ds.Atmospheric_Water_Vapor_QA_Mean\n",
    "PW_values=PW.values.flatten()\n"
   ]
  },
  {
   "attachments": {},
   "cell_type": "markdown",
   "metadata": {},
   "source": [
    "## Write it to Excel"
   ]
  },
  {
   "attachments": {},
   "cell_type": "markdown",
   "metadata": {},
   "source": [
    "### ML3"
   ]
  },
  {
   "cell_type": "code",
   "execution_count": 15,
   "metadata": {},
   "outputs": [],
   "source": [
    "import xarray as xr\n",
    "import numpy as np\n",
    "import xlsxwriter\n",
    "os.chdir('/Volumes/PtatoBasket/ACIML/Outputs/Sheets_of_ML/')\n"
   ]
  },
  {
   "cell_type": "code",
   "execution_count": 16,
   "metadata": {},
   "outputs": [],
   "source": [
    "# import csv \n",
    "\n",
    "# # name of csv file \n",
    "# filename = \"ML4-PreMon.csv\"\n",
    "# fields=['PBLH' ,\n",
    "#                     'WindDirection-850', 'MeanWind-850', 'RH', 'V-850', 'SMOKE-AOD',\n",
    "#                     'DUST-AOD', 'AI','PrecipitableVapour', 'PreciCal', 'LTS', 'Nd', 'CloudRadius', 'LWP']\n",
    "# # writing to csv file \n",
    "# with open(filename, 'w') as csvfile: \n",
    "#     # creating a csv dict writer object \n",
    "#     writer = csv.DictWriter(csvfile, fieldnames = fields) \n",
    "        \n",
    "#     # writing headers (field names) \n",
    "#     writer.writeheader() \n",
    "        \n",
    "#     # writing data rows \n",
    "#     writer.writerows(mydict) \n"
   ]
  },
  {
   "cell_type": "code",
   "execution_count": 17,
   "metadata": {},
   "outputs": [],
   "source": [
    "# %%script echo skipping\n",
    "# Create Excel workbook and worksheet\n",
    "workbook = xlsxwriter.Workbook('ML5.1-PreMonM3.xlsx')\n",
    "worksheet = workbook.add_worksheet(name='Sheet1')\n",
    "\n",
    "\n",
    "# Write column headers\n",
    "worksheet.write_row(0, 0, ['PBLH' ,\n",
    "                    'WindDirection-850', 'MeanWind-850', 'RH', 'V-850', 'SMOKE-AOD',\n",
    "                    'DUST-AOD', 'AI','PrecipitableVapour', 'LTS', 'Nd', 'CloudRadius', 'LWP','CTP','CTT','COT'])\n",
    "\n",
    "\n",
    "i=0\n",
    "for x in range(len(LWP_values)):\n",
    "    if not any([np.isnan(LWP_values[x]),\n",
    "           np.isnan(CR_values[x]),\n",
    "           np.isnan(Nd_values[x]),\n",
    "           np.isnan(LTS_values[x]),\n",
    "           np.isnan(PW_values[x]),\n",
    "           np.isnan(AI_values[x]),\n",
    "           np.isnan(dst_values[x]),\n",
    "           np.isnan(sm_values[x]),\n",
    "           np.isnan(W_values[x]),\n",
    "           np.isnan(RH_values[x]),\n",
    "           np.isnan(MW_values[x]),\n",
    "           np.isnan(WD_values[x]),\n",
    "           np.isnan(PBLH_values[x]),\n",
    "           np.isnan(CTP_values[x]),\n",
    "           np.isnan(CTT_values[x]),\n",
    "           np.isnan(COT_values[x]),\n",
    "\n",
    "           ]):\n",
    "            i=i+1\n",
    "            worksheet.write_number(i,0,PBLH_values[x])\n",
    "            worksheet.write_number(i,1,WD_values[x])\n",
    "            worksheet.write_number(i,2,MW_values[x])\n",
    "            worksheet.write_number(i,3,RH_values[x])\n",
    "            worksheet.write_number(i,4,W_values[x])\n",
    "            worksheet.write_number(i,5,sm_values[x])\n",
    "            worksheet.write_number(i,6,dst_values[x])\n",
    "            worksheet.write_number(i,7,AI_values[x])\n",
    "            worksheet.write_number(i,8,PW_values[x])\n",
    "            worksheet.write_number(i,9,LTS_values[x])\n",
    "            worksheet.write_number(i,10,Nd_values[x])\n",
    "            worksheet.write_number(i,11,CR_values[x])\n",
    "            worksheet.write_number(i,12,LWP_values[x])\n",
    "            worksheet.write_number(i,13,CTP_values[x])\n",
    "            worksheet.write_number(i,14,CTT_values[x])\n",
    "            worksheet.write_number(i,15,COT_values[x])\n",
    "\n",
    "\n",
    "workbook.close()"
   ]
  },
  {
   "cell_type": "code",
   "execution_count": 18,
   "metadata": {},
   "outputs": [
    {
     "name": "stdout",
     "output_type": "stream",
     "text": [
      "skipping\n"
     ]
    }
   ],
   "source": [
    "%%script echo skipping\n",
    "\n",
    "labels=['PBLH' ,'WindDirection-850', 'MeanWind-850', 'RH', 'VerticalVelocity-850', 'SMOKE-AOD','DUST-AOD', 'AI','PrecipitableVapour', 'LTS', 'Nd', 'CloudRadius','CTP','CTT','COT','LWP']\n",
    "df=pd.DataFrame(data=[PBLH_values,WD_values,MW_values,RH_values,W_values,sm_values,dst_values,AI_values,PW_values,LTS_values,Nd_values,CR_values,CTP_values,CTT_values,COT_values,LWP_values]).T\n",
    "df.columns=labels\n",
    "df=df.dropna(how='any',axis=0).reset_index(drop=True)\n",
    "df.to_excel('ML5.1-PreMonM2.xlsx')"
   ]
  },
  {
   "attachments": {},
   "cell_type": "markdown",
   "metadata": {},
   "source": [
    "# Stat Sheet"
   ]
  },
  {
   "cell_type": "code",
   "execution_count": 19,
   "metadata": {},
   "outputs": [
    {
     "name": "stdout",
     "output_type": "stream",
     "text": [
      "skipping÷\n"
     ]
    }
   ],
   "source": [
    "%%script echo skipping÷\n",
    "\n",
    "os.chdir('/Volumes/PtatoBasket/ACIML/Outputs/Sheets_of_Stat')\n",
    "\n",
    "# Create Excel workbook and worksheet\n",
    "workbook = xlsxwriter.Workbook('STAT1-PreMonM2.xlsx')\n",
    "worksheet = workbook.add_worksheet(name='Sheet1')\n",
    "\n",
    "\n",
    "# Write column headers\n",
    "worksheet.write_row(0, 0, ['AnthroPogenic-AOD',\n",
    "                    'DUST-AOD', 'AI', 'Nd', 'CloudRadius','LWP','AOD'])\n",
    "\n",
    "i=0\n",
    "for x in range(len(LWP_values)):\n",
    "    if not any([np.isnan(LWP_values[x]),\n",
    "           np.isnan(CR_values[x]),\n",
    "           np.isnan(Nd_values[x]),\n",
    "           np.isnan(LTS_values[x]),\n",
    "           np.isnan(PW_values[x]),\n",
    "           np.isnan(AI_values[x]),\n",
    "           np.isnan(dst_values[x]),\n",
    "           np.isnan(sm_values[x]),\n",
    "           np.isnan(W_values[x]),\n",
    "           np.isnan(RH_values[x]),\n",
    "           np.isnan(MW_values[x]),\n",
    "           np.isnan(WD_values[x]),\n",
    "           np.isnan(PBLH_values[x]),\n",
    "           np.isnan(AOD_values[x])\n",
    "           ]):    \n",
    "            i=i+1\n",
    "            # worksheet.write_number(i,0,PBLH_values[x])\n",
    "            # worksheet.write_number(i,1,WD_values[x])\n",
    "            # worksheet.write_number(i,2,MW_values[x])\n",
    "            # worksheet.write_number(i,3,RH_values[x])\n",
    "            # worksheet.write_number(i,4,W_values[x])\n",
    "            worksheet.write_number(i,0,sm_values[x])\n",
    "            worksheet.write_number(i,1,dst_values[x])\n",
    "            worksheet.write_number(i,2,AI_values[x])\n",
    "            # worksheet.write_number(i,8,PW_values[x])\n",
    "            # worksheet.write_number(i,9,PC_values[x])\n",
    "            # worksheet.write_number(i,10,LTS_values[x])\n",
    "            worksheet.write_number(i,3,Nd_values[x])\n",
    "            worksheet.write_number(i,4,CR_values[x])\n",
    "            worksheet.write_number(i,5,LWP_values[x])\n",
    "            worksheet.write_number(i,6,AOD_values[x])\n",
    "\n",
    "workbook.close()"
   ]
  }
 ],
 "metadata": {
  "kernelspec": {
   "display_name": "CS2",
   "language": "python",
   "name": "python3"
  },
  "language_info": {
   "codemirror_mode": {
    "name": "ipython",
    "version": 3
   },
   "file_extension": ".py",
   "mimetype": "text/x-python",
   "name": "python",
   "nbconvert_exporter": "python",
   "pygments_lexer": "ipython3",
   "version": "3.10.6"
  },
  "orig_nbformat": 4,
  "vscode": {
   "interpreter": {
    "hash": "d4c71082fa3ddc7197cffb7d226770c26641273fae4206d3ae5b276e27bb9432"
   }
  }
 },
 "nbformat": 4,
 "nbformat_minor": 2
}
