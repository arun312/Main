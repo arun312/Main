{
 "cells": [
  {
   "cell_type": "code",
   "execution_count": 88,
   "metadata": {},
   "outputs": [],
   "source": [
    "#Libraries\n",
    "import numpy as np\n",
    "import pandas as pd\n",
    "import warnings\n",
    "import os\n",
    "import matplotlib.pyplot as plt\n",
    "\n",
    "warnings.filterwarnings('ignore')"
   ]
  },
  {
   "cell_type": "code",
   "execution_count": 89,
   "metadata": {},
   "outputs": [
    {
     "data": {
      "text/html": [
       "<div>\n",
       "<style scoped>\n",
       "    .dataframe tbody tr th:only-of-type {\n",
       "        vertical-align: middle;\n",
       "    }\n",
       "\n",
       "    .dataframe tbody tr th {\n",
       "        vertical-align: top;\n",
       "    }\n",
       "\n",
       "    .dataframe thead th {\n",
       "        text-align: right;\n",
       "    }\n",
       "</style>\n",
       "<table border=\"1\" class=\"dataframe\">\n",
       "  <thead>\n",
       "    <tr style=\"text-align: right;\">\n",
       "      <th></th>\n",
       "      <th>AnthroPogenic-AOD</th>\n",
       "      <th>DUST-AOD</th>\n",
       "      <th>AI</th>\n",
       "      <th>Nd</th>\n",
       "      <th>CloudRadius</th>\n",
       "      <th>LWP</th>\n",
       "      <th>AOD</th>\n",
       "      <th>CarbonAOD</th>\n",
       "      <th>SmokeAOD</th>\n",
       "    </tr>\n",
       "  </thead>\n",
       "  <tbody>\n",
       "    <tr>\n",
       "      <th>0</th>\n",
       "      <td>0.346227</td>\n",
       "      <td>0.105905</td>\n",
       "      <td>0.541496</td>\n",
       "      <td>36.631366</td>\n",
       "      <td>14.03</td>\n",
       "      <td>47</td>\n",
       "      <td>0.418640</td>\n",
       "      <td>0.125159</td>\n",
       "      <td>0.221069</td>\n",
       "    </tr>\n",
       "    <tr>\n",
       "      <th>1</th>\n",
       "      <td>0.353710</td>\n",
       "      <td>0.111187</td>\n",
       "      <td>0.553165</td>\n",
       "      <td>49.941596</td>\n",
       "      <td>13.32</td>\n",
       "      <td>11</td>\n",
       "      <td>0.433388</td>\n",
       "      <td>0.120535</td>\n",
       "      <td>0.233176</td>\n",
       "    </tr>\n",
       "    <tr>\n",
       "      <th>2</th>\n",
       "      <td>0.625789</td>\n",
       "      <td>0.108512</td>\n",
       "      <td>0.953549</td>\n",
       "      <td>41.861894</td>\n",
       "      <td>14.46</td>\n",
       "      <td>40</td>\n",
       "      <td>0.693815</td>\n",
       "      <td>0.201164</td>\n",
       "      <td>0.424625</td>\n",
       "    </tr>\n",
       "    <tr>\n",
       "      <th>3</th>\n",
       "      <td>0.807299</td>\n",
       "      <td>0.090955</td>\n",
       "      <td>1.308411</td>\n",
       "      <td>31.150571</td>\n",
       "      <td>15.04</td>\n",
       "      <td>44</td>\n",
       "      <td>0.829648</td>\n",
       "      <td>0.392596</td>\n",
       "      <td>0.414702</td>\n",
       "    </tr>\n",
       "    <tr>\n",
       "      <th>4</th>\n",
       "      <td>0.509958</td>\n",
       "      <td>0.072707</td>\n",
       "      <td>0.827088</td>\n",
       "      <td>12.490219</td>\n",
       "      <td>20.69</td>\n",
       "      <td>91</td>\n",
       "      <td>0.538220</td>\n",
       "      <td>0.201434</td>\n",
       "      <td>0.308524</td>\n",
       "    </tr>\n",
       "  </tbody>\n",
       "</table>\n",
       "</div>"
      ],
      "text/plain": [
       "   AnthroPogenic-AOD  DUST-AOD        AI         Nd  CloudRadius  LWP  \\\n",
       "0           0.346227  0.105905  0.541496  36.631366        14.03   47   \n",
       "1           0.353710  0.111187  0.553165  49.941596        13.32   11   \n",
       "2           0.625789  0.108512  0.953549  41.861894        14.46   40   \n",
       "3           0.807299  0.090955  1.308411  31.150571        15.04   44   \n",
       "4           0.509958  0.072707  0.827088  12.490219        20.69   91   \n",
       "\n",
       "        AOD  CarbonAOD  SmokeAOD  \n",
       "0  0.418640   0.125159  0.221069  \n",
       "1  0.433388   0.120535  0.233176  \n",
       "2  0.693815   0.201164  0.424625  \n",
       "3  0.829648   0.392596  0.414702  \n",
       "4  0.538220   0.201434  0.308524  "
      ]
     },
     "execution_count": 89,
     "metadata": {},
     "output_type": "execute_result"
    }
   ],
   "source": [
    "os.chdir('/Volumes/PtatoBasket/ACIML/Outputs')\n",
    "DATA=pd.read_excel(r'Sheets_of_STAT/STAT1-PreMon.xlsx',sheet_name='Sheet1')\n",
    "DATA.head()"
   ]
  },
  {
   "attachments": {},
   "cell_type": "markdown",
   "metadata": {},
   "source": [
    "# OneWay of binning"
   ]
  },
  {
   "cell_type": "code",
   "execution_count": 90,
   "metadata": {},
   "outputs": [
    {
     "name": "stdout",
     "output_type": "stream",
     "text": [
      "skipping\n"
     ]
    }
   ],
   "source": [
    "%%script echo skipping\n",
    "bins = [0, 0.05, 0.35, 0.5, 1.5]\n",
    "labels = ['VeryLow', 'Medium', 'High' ,'VeryHigh']\n",
    "DATA['AI-Cateogory'] = pd.cut(x = DATA['AI'], bins = bins, labels = labels, include_lowest = True)\n",
    "DATA.head()\n",
    "os.chdir('/Volumes/PtatoBasket/ACIML/Outputs/Sheets_of_Stat')\n",
    "DATA.to_excel('STAT2-PreMon.xlsx')"
   ]
  },
  {
   "attachments": {},
   "cell_type": "markdown",
   "metadata": {},
   "source": [
    "# Second Way of binning"
   ]
  },
  {
   "cell_type": "code",
   "execution_count": 91,
   "metadata": {},
   "outputs": [
    {
     "data": {
      "image/png": "[encoded data removed]",
      "text/plain": [
       "<Figure size 640x480 with 1 Axes>"
      ]
     },
     "metadata": {},
     "output_type": "display_data"
    }
   ],
   "source": [
    "#Normal Binning\n",
    "data=DATA['LWP']\n",
    "\n",
    "n, bins, patches =plt.hist(data,bins=50)\n",
    "plt.show()"
   ]
  },
  {
   "cell_type": "code",
   "execution_count": 92,
   "metadata": {},
   "outputs": [
    {
     "data": {
      "image/png": "[encoded data removed]",
      "text/plain": [
       "<Figure size 640x480 with 1 Axes>"
      ]
     },
     "metadata": {},
     "output_type": "display_data"
    }
   ],
   "source": [
    "\n",
    "bins=10\n",
    "data=data[data<250]\n",
    "def equalObs(x,nBin):\n",
    "    nlen=len(x)\n",
    "    return np.interp(np.linspace(0,nlen,nBin+1),\n",
    "                     np.arange(nlen),\n",
    "                     np.sort(x))\n",
    "    \n",
    "n, bins, patches = plt.hist(data,equalObs(data,bins), edgecolor='black')\n",
    "plt.show()"
   ]
  },
  {
   "cell_type": "code",
   "execution_count": 93,
   "metadata": {},
   "outputs": [
    {
     "name": "stdout",
     "output_type": "stream",
     "text": [
      "1.0\n",
      "16.0\n",
      "21.0\n",
      "25.0\n",
      "30.0\n",
      "35.0\n",
      "42.0\n",
      "53.0\n",
      "72.0\n",
      "105.0\n",
      "249.0\n"
     ]
    }
   ],
   "source": [
    "# %%script echo skipping\n",
    "for i in range(0,len(bins)):\n",
    "    print(float(bins[i]))"
   ]
  },
  {
   "attachments": {},
   "cell_type": "markdown",
   "metadata": {},
   "source": [
    "# Visualizing the Data"
   ]
  },
  {
   "cell_type": "code",
   "execution_count": 94,
   "metadata": {},
   "outputs": [
    {
     "name": "stdout",
     "output_type": "stream",
     "text": [
      "skipping\n"
     ]
    }
   ],
   "source": [
    "%%script echo skipping\n",
    "import seaborn as sns\n",
    "plt.figure(figsize=(16,5))\n",
    "sns.distplot(DATA['LWP'])"
   ]
  },
  {
   "cell_type": "code",
   "execution_count": 95,
   "metadata": {},
   "outputs": [
    {
     "name": "stdout",
     "output_type": "stream",
     "text": [
      "Highest allowed 225.28722742823706\n"
     ]
    }
   ],
   "source": [
    "print(\"Highest allowed\",DATA['LWP'].mean() + 3*DATA['LWP'].std())\n"
   ]
  },
  {
   "attachments": {},
   "cell_type": "markdown",
   "metadata": {},
   "source": [
    "# Dividing the dataset Based on LWP"
   ]
  },
  {
   "cell_type": "code",
   "execution_count": 96,
   "metadata": {},
   "outputs": [],
   "source": [
    "bin=[1.0, 20.0, 30.0, 45.0, 75.0, 250.0]\n",
    "ds=DATA\n",
    "ds.rename(columns = {'AnthroPogenic-AOD':'anAOD'}, inplace = True)\n",
    "ds.head()\n",
    "DATA=ds"
   ]
  },
  {
   "attachments": {},
   "cell_type": "markdown",
   "metadata": {},
   "source": [
    "# Cateogorising as per Percentile groups"
   ]
  },
  {
   "cell_type": "code",
   "execution_count": 97,
   "metadata": {},
   "outputs": [],
   "source": [
    "path = '/Volumes/PtatoBasket/ACIML/Outputs/Sheets_of_Stat/STAT4-NdCARBp'\n",
    "isExist = os.path.exists(path)\n",
    "if not isExist:\n",
    "   os.makedirs(path)\n",
    "\n",
    "os.chdir(path)\n",
    "for i in range(0,len(bin)-1):\n",
    "    binn=ds[(ds['LWP']>bin[i]) & (ds['LWP']<bin[i+1])]\n",
    "\n",
    "   #  percentiles=[DATA.AI.quantile(.05), DATA.AI.quantile(.35), DATA.AI.quantile(.65), DATA.AI.quantile(.95)]\n",
    "   #  percentiles=[DATA.anAOD.quantile(.05), DATA.anAOD.quantile(.35), DATA.anAOD.quantile(.65), DATA.anAOD.quantile(.95)]\n",
    "   #  percentiles=[DATA.AOD.quantile(.05), DATA.AOD.quantile(.35), DATA.AOD.quantile(.65), DATA.AOD.quantile(.95)]\n",
    "    percentiles=[DATA.CarbonAOD.quantile(.05), DATA.CarbonAOD.quantile(.35), DATA.CarbonAOD.quantile(.65), DATA.CarbonAOD.quantile(.95)]\n",
    "    \n",
    "    labels = ['5-35', '35-65', '65-95']\n",
    "    binn['CarbonAOD-Cateogory'] = pd.cut(x = binn['CarbonAOD'], bins = percentiles, labels = labels, include_lowest = True)\n",
    "    binn=binn[binn['CarbonAOD-Cateogory'].notna()]\n",
    "    name='STAT3-Bin'+str(i)+'.xlsx'\n",
    "    binn.to_excel(name)\n"
   ]
  },
  {
   "attachments": {},
   "cell_type": "markdown",
   "metadata": {},
   "source": [
    "# Writing for the easiness of boxPlot"
   ]
  },
  {
   "cell_type": "code",
   "execution_count": 98,
   "metadata": {},
   "outputs": [],
   "source": [
    "os.chdir(path)\n",
    "\n",
    "dict={}\n",
    "for i in range(0,5):\n",
    "    name='STAT3-Bin'+str(i)+'.xlsx'\n",
    "    DATA=pd.read_excel(name,sheet_name='Sheet1')\n",
    "    x=DATA.Nd[DATA['CarbonAOD-Cateogory']=='5-35']\n",
    "    x=x.dropna().values\n",
    "    y=DATA.Nd[DATA['CarbonAOD-Cateogory']=='35-65']\n",
    "    y=y.dropna().values\n",
    "    z=DATA.Nd[DATA['CarbonAOD-Cateogory']=='65-95']\n",
    "    z=z.dropna().values\n",
    "    dict['LWP-'+str(i)+'5-35']=pd.Series(x)\n",
    "    dict['LWP-'+str(i)+'35-65']=pd.Series(y)\n",
    "    dict['LWP-'+str(i)+'65-95']=pd.Series(z)\n",
    "    \n",
    "df=pd.DataFrame(dict)\n"
   ]
  },
  {
   "cell_type": "code",
   "execution_count": 99,
   "metadata": {},
   "outputs": [],
   "source": [
    "df.to_excel('../STAT5-PreMonNdCARB.xlsx')"
   ]
  },
  {
   "cell_type": "code",
   "execution_count": null,
   "metadata": {},
   "outputs": [],
   "source": []
  }
 ],
 "metadata": {
  "kernelspec": {
   "display_name": "CLIMATE_SCIENCE",
   "language": "python",
   "name": "python3"
  },
  "language_info": {
   "codemirror_mode": {
    "name": "ipython",
    "version": 3
   },
   "file_extension": ".py",
   "mimetype": "text/x-python",
   "name": "python",
   "nbconvert_exporter": "python",
   "pygments_lexer": "ipython3",
   "version": "3.10.6"
  },
  "orig_nbformat": 4,
  "vscode": {
   "interpreter": {
    "hash": "07b86caa93fadaa61f04e6b621513b8b6f4b7cc85bf00bd26e84ad3c3830db61"
   }
  }
 },
 "nbformat": 4,
 "nbformat_minor": 2
}
