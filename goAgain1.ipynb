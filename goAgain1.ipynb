{
 "cells": [
  {
   "cell_type": "code",
   "execution_count": 2,
   "metadata": {},
   "outputs": [],
   "source": [
    "import os,sys #user to create and modify file name and save it\n",
    "from netCDF4 import Dataset#to read the .nc files\n",
    "import pandas as pd #for dataframe activities\n",
    "from datetime import datetime,timedelta #for the time related activities\n",
    "import matplotlib.pyplot as plt #for the Ploting purpose\n",
    "import numpy as np #numerical fucntions\n",
    "import datetime \n",
    "import warnings #to ignore unnecessary warnings\n",
    "import xarray as xr\n",
    "import numpy as np\n",
    "import regionmask\n",
    "import geopandas as gp\n",
    "import glob                                                                 \n",
    "from pyhdf.SD import SD, SDC\n",
    "warnings.filterwarnings('ignore')"
   ]
  },
  {
   "attachments": {},
   "cell_type": "markdown",
   "metadata": {},
   "source": [
    "# Correction and clipping of RH"
   ]
  },
  {
   "cell_type": "code",
   "execution_count": 4,
   "metadata": {},
   "outputs": [],
   "source": [
    "os.chdir('/Volumes/PtatoBasket/Dataset_New/ERA-5 RH/PreMon')\n",
    "ds=xr.open_dataset('RH-MAM_daily.nc')\n"
   ]
  },
  {
   "cell_type": "code",
   "execution_count": 91,
   "metadata": {},
   "outputs": [],
   "source": [
    "from datetime import datetime,timedelta,date\n",
    "RH=ds.r\n",
    "time,pressure,lat,lon=RH.indexes.values()\n",
    "x=list(time)\n",
    "y=[]\n",
    "\n",
    "for n in x:\n",
    "    y.append(n.date())"
   ]
  },
  {
   "cell_type": "code",
   "execution_count": 92,
   "metadata": {},
   "outputs": [],
   "source": [
    "import os\n",
    "from datetime import datetime,timedelta,date\n",
    "date_list=[]\n",
    "for yr in range(2005,2022):\n",
    "    month=[3,4,5]\n",
    "    for mon in month:\n",
    "        for day in range(1,32):\n",
    "            try:\n",
    "                d=date(yr,mon,day)\n",
    "                delta=timedelta(days=1)\n",
    "                year=d.year\n",
    "                doy=d.timetuple().tm_yday\n",
    "                doy=\"{:03d}\".format(doy)\n",
    "                # date_list.append('A'+str(year)+str(doy)+'.hdf')#MODIS-GESDISC\n",
    "                # date_list.append(d.strftime('%Y%m%d'))#IMGERG/PBL\n",
    "                date_list.append(d)#IMGERG/PBLH\n",
    "                d+=delta\n",
    "            except ValueError:\n",
    "                pass\n",
    "              "
   ]
  },
  {
   "cell_type": "code",
   "execution_count": 93,
   "metadata": {},
   "outputs": [],
   "source": [
    "  \n",
    "missing_dates=list(set(y)-set(date_list))\n",
    "indexes = [y.index(x) for x in missing_dates]\n",
    "unwanted_times=[time[x] for x in indexes]\n"
   ]
  },
  {
   "cell_type": "code",
   "execution_count": 94,
   "metadata": {},
   "outputs": [],
   "source": [
    "\n",
    "for x in unwanted_times:\n",
    "    # print(x)\n",
    "    RH=RH.isel(time=RH['time']!=x)\n",
    "    \n",
    "RH=RH.mean(dim = 'level')"
   ]
  },
  {
   "cell_type": "code",
   "execution_count": 95,
   "metadata": {},
   "outputs": [
    {
     "name": "stdout",
     "output_type": "stream",
     "text": [
      "It is Clipping\n"
     ]
    }
   ],
   "source": [
    "\n",
    "#Clipping to shape File and Creating Mask File\n",
    "shapefile =\"/Volumes/ACIML/Main/SHPs/BOB_OCEAN/BOB_OCEAN.shp\"\n",
    "countries=gp.read_file(shapefile,engine='pyogrio')\n",
    "c_list=list(countries['featurecla'])\n",
    "c_list_unique=set(list(countries['featurecla']))\n",
    "indexes=[c_list.index(x) for x in c_list_unique]\n",
    "countries_mask_poly=regionmask.Regions(outlines=countries.geometry[indexes],name='featurecla',numbers=indexes,names=countries.featurecla[indexes])\n",
    "print('It is Clipping')\n",
    "mask=countries_mask_poly.mask(RH,lat_name='latitude',lon_name='longitude')\n",
    "# mask.to_netcdf('BOB_MASK.nc')\n",
    "\n",
    "# mask=xr.open_dataarray('/Volumes/ACIML/Main/SHPs/BOB_MASK.nc')\n",
    "masked_shape=RH.where(mask==0)\n",
    "min_lon = 78.00\n",
    "max_lon = 96.00\n",
    "min_lat = 8.00\n",
    "max_lat = 23.00\n",
    "\n",
    "cropped_ds = masked_shape.sel(latitude=slice(max_lat,min_lat), longitude=slice(min_lon,max_lon))\n"
   ]
  },
  {
   "cell_type": "code",
   "execution_count": 97,
   "metadata": {},
   "outputs": [],
   "source": [
    "cropped_ds.to_netcdf('PreMonDaily_RHavg.nc')"
   ]
  },
  {
   "attachments": {},
   "cell_type": "markdown",
   "metadata": {},
   "source": [
    "# For IMGERG Precipitation"
   ]
  },
  {
   "cell_type": "code",
   "execution_count": null,
   "metadata": {},
   "outputs": [],
   "source": [
    "st=time.time()\n",
    "os.chdir('/Volumes/PtatoBasket/Dataset_New/IMERG')\n",
    "xxx=[]\n",
    "a=[]\n",
    "for file in list(glob.glob('PreMon/*.nc4')):\n",
    "\n",
    "    ds=xr.open_dataset(file)\n",
    "\n",
    "    # Retrieve attributes.\n",
    "    attrs = ds.attrs\n",
    "    dat=attrs[\"BeginDate\"]\n",
    "    dat=datetime.strptime(dat,'%Y-%m-%d')\n",
    "    # January 1st, 1900\n",
    "    start_datetime = datetime(1900, 1, 1)\n",
    "\n",
    "    # Calculate the time delta (difference) in hours\n",
    "    delta = (dat - start_datetime).total_seconds() / 3600\n",
    "\n",
    "\n",
    "    xxx.append(delta)\n"
   ]
  },
  {
   "cell_type": "code",
   "execution_count": 7,
   "metadata": {},
   "outputs": [],
   "source": [
    "from datetime import datetime,timedelta\n",
    "arr=str('A2005001.hdf').split('.')\n",
    "year=str(arr[0])[1:5]\n",
    "days=str(arr[0])[5:]\n",
    "dat=datetime(int(year), 1, 1) + timedelta(int(days) - 1)\n",
    "# dat=(dat-datetime(2005,1,1)).days\n",
    "# January 1st, 1900\n",
    "start_datetime = datetime(1900, 1, 1)\n",
    "\n",
    "# Calculate the time delta (difference) in hours\n",
    "delta = (dat - start_datetime).total_seconds() / 3600\n"
   ]
  },
  {
   "cell_type": "code",
   "execution_count": 1,
   "metadata": {},
   "outputs": [
    {
     "ename": "RuntimeError",
     "evalue": "module compiled against API version 0xf but this version of numpy is 0xe",
     "output_type": "error",
     "traceback": [
      "\u001b[0;31m---------------------------------------------------------------------------\u001b[0m",
      "\u001b[0;31mRuntimeError\u001b[0m                              Traceback (most recent call last)",
      "\u001b[0;31mRuntimeError\u001b[0m: module compiled against API version 0xf but this version of numpy is 0xe"
     ]
    },
    {
     "ename": "SystemError",
     "evalue": "initialization of _hdfext raised unreported exception",
     "output_type": "error",
     "traceback": [
      "\u001b[0;31m---------------------------------------------------------------------------\u001b[0m",
      "\u001b[0;31mSystemError\u001b[0m                               Traceback (most recent call last)",
      "\u001b[1;32m/Volumes/ACIML/Main/goAgain1.ipynb Cell 13\u001b[0m in \u001b[0;36m<cell line: 1>\u001b[0;34m()\u001b[0m\n\u001b[0;32m----> <a href='vscode-notebook-cell:/Volumes/ACIML/Main/goAgain1.ipynb#X16sZmlsZQ%3D%3D?line=0'>1</a>\u001b[0m \u001b[39mfrom\u001b[39;00m \u001b[39mpyhdf\u001b[39;00m\u001b[39m.\u001b[39;00m\u001b[39mSD\u001b[39;00m \u001b[39mimport\u001b[39;00m SD, SDC\n\u001b[1;32m      <a href='vscode-notebook-cell:/Volumes/ACIML/Main/goAgain1.ipynb#X16sZmlsZQ%3D%3D?line=1'>2</a>\u001b[0m \u001b[39mimport\u001b[39;00m \u001b[39mglob\u001b[39;00m\n\u001b[1;32m      <a href='vscode-notebook-cell:/Volumes/ACIML/Main/goAgain1.ipynb#X16sZmlsZQ%3D%3D?line=2'>3</a>\u001b[0m os\u001b[39m.\u001b[39mchdir(\u001b[39m'\u001b[39m\u001b[39m/Volumes/PtatoBasket/Dataset_New/PrecipitableWater-MODIS/PreMon\u001b[39m\u001b[39m'\u001b[39m)\n",
      "File \u001b[0;32m/Volumes/ACIML/ProgramFiles/Anaconda/anaconda3/lib/python3.9/site-packages/pyhdf/SD.py:1003\u001b[0m, in \u001b[0;36m<module>\u001b[0;34m\u001b[0m\n\u001b[1;32m     38\u001b[0m \u001b[39m\"\"\"\u001b[39;00m\n\u001b[1;32m     39\u001b[0m \u001b[39mSD (scientific dataset) API (:mod:`pyhdf.SD`)\u001b[39;00m\n\u001b[1;32m     40\u001b[0m \u001b[39m=============================================\u001b[39;00m\n\u001b[0;32m   (...)\u001b[0m\n\u001b[1;32m    999\u001b[0m \n\u001b[1;32m   1000\u001b[0m \u001b[39m\"\"\"\u001b[39;00m\n\u001b[1;32m   1001\u001b[0m \u001b[39mimport\u001b[39;00m \u001b[39mos\u001b[39;00m\u001b[39m,\u001b[39m \u001b[39msys\u001b[39;00m\u001b[39m,\u001b[39m \u001b[39mtypes\u001b[39;00m\n\u001b[0;32m-> 1003\u001b[0m \u001b[39mfrom\u001b[39;00m \u001b[39m.\u001b[39;00m \u001b[39mimport\u001b[39;00m hdfext \u001b[39mas\u001b[39;00m _C\n\u001b[1;32m   1004\u001b[0m \u001b[39mfrom\u001b[39;00m \u001b[39m.\u001b[39;00m\u001b[39msix\u001b[39;00m\u001b[39m.\u001b[39;00m\u001b[39mmoves\u001b[39;00m \u001b[39mimport\u001b[39;00m xrange\n\u001b[1;32m   1005\u001b[0m \u001b[39mfrom\u001b[39;00m \u001b[39m.\u001b[39;00m\u001b[39merror\u001b[39;00m \u001b[39mimport\u001b[39;00m _checkErr, HDF4Error\n",
      "File \u001b[0;32m/Volumes/ACIML/ProgramFiles/Anaconda/anaconda3/lib/python3.9/site-packages/pyhdf/hdfext.py:17\u001b[0m, in \u001b[0;36m<module>\u001b[0;34m\u001b[0m\n\u001b[1;32m     15\u001b[0m         \u001b[39mexcept\u001b[39;00m \u001b[39mImportError\u001b[39;00m:\n\u001b[1;32m     16\u001b[0m             \u001b[39mreturn\u001b[39;00m importlib\u001b[39m.\u001b[39mimport_module(\u001b[39m'\u001b[39m\u001b[39m_hdfext\u001b[39m\u001b[39m'\u001b[39m)\n\u001b[0;32m---> 17\u001b[0m     _hdfext \u001b[39m=\u001b[39m swig_import_helper()\n\u001b[1;32m     18\u001b[0m     \u001b[39mdel\u001b[39;00m swig_import_helper\n\u001b[1;32m     19\u001b[0m \u001b[39melif\u001b[39;00m _swig_python_version_info \u001b[39m>\u001b[39m\u001b[39m=\u001b[39m (\u001b[39m2\u001b[39m, \u001b[39m6\u001b[39m, \u001b[39m0\u001b[39m):\n",
      "File \u001b[0;32m/Volumes/ACIML/ProgramFiles/Anaconda/anaconda3/lib/python3.9/site-packages/pyhdf/hdfext.py:14\u001b[0m, in \u001b[0;36mswig_import_helper\u001b[0;34m()\u001b[0m\n\u001b[1;32m     12\u001b[0m mname \u001b[39m=\u001b[39m \u001b[39m'\u001b[39m\u001b[39m.\u001b[39m\u001b[39m'\u001b[39m\u001b[39m.\u001b[39mjoin((pkg, \u001b[39m'\u001b[39m\u001b[39m_hdfext\u001b[39m\u001b[39m'\u001b[39m))\u001b[39m.\u001b[39mlstrip(\u001b[39m'\u001b[39m\u001b[39m.\u001b[39m\u001b[39m'\u001b[39m)\n\u001b[1;32m     13\u001b[0m \u001b[39mtry\u001b[39;00m:\n\u001b[0;32m---> 14\u001b[0m     \u001b[39mreturn\u001b[39;00m importlib\u001b[39m.\u001b[39;49mimport_module(mname)\n\u001b[1;32m     15\u001b[0m \u001b[39mexcept\u001b[39;00m \u001b[39mImportError\u001b[39;00m:\n\u001b[1;32m     16\u001b[0m     \u001b[39mreturn\u001b[39;00m importlib\u001b[39m.\u001b[39mimport_module(\u001b[39m'\u001b[39m\u001b[39m_hdfext\u001b[39m\u001b[39m'\u001b[39m)\n",
      "File \u001b[0;32m/Volumes/ACIML/ProgramFiles/Anaconda/anaconda3/lib/python3.9/importlib/__init__.py:127\u001b[0m, in \u001b[0;36mimport_module\u001b[0;34m(name, package)\u001b[0m\n\u001b[1;32m    125\u001b[0m             \u001b[39mbreak\u001b[39;00m\n\u001b[1;32m    126\u001b[0m         level \u001b[39m+\u001b[39m\u001b[39m=\u001b[39m \u001b[39m1\u001b[39m\n\u001b[0;32m--> 127\u001b[0m \u001b[39mreturn\u001b[39;00m _bootstrap\u001b[39m.\u001b[39;49m_gcd_import(name[level:], package, level)\n",
      "\u001b[0;31mSystemError\u001b[0m: initialization of _hdfext raised unreported exception"
     ]
    }
   ],
   "source": [
    "from pyhdf.SD import SD, SDC\n",
    "import glob\n",
    "os.chdir('/Volumes/PtatoBasket/Dataset_New/PrecipitableWater-MODIS/PreMon')\n",
    "x=list(glob.glob('A*.hdf'))\n",
    "for file in list(glob.glob('*.hdf')):\n",
    "\n",
    "    reader = open(file)\n",
    "    hdf = SD(file, SDC.READ)\n"
   ]
  }
 ],
 "metadata": {
  "kernelspec": {
   "display_name": "base",
   "language": "python",
   "name": "python3"
  },
  "language_info": {
   "codemirror_mode": {
    "name": "ipython",
    "version": 3
   },
   "file_extension": ".py",
   "mimetype": "text/x-python",
   "name": "python",
   "nbconvert_exporter": "python",
   "pygments_lexer": "ipython3",
   "version": "3.9.12"
  },
  "orig_nbformat": 4,
  "vscode": {
   "interpreter": {
    "hash": "4e9aba15cc407f92bfe1fa525a2438dd490e46fe6b164ec6b836d2a208d8fd53"
   }
  }
 },
 "nbformat": 4,
 "nbformat_minor": 2
}
