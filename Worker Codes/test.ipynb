{
 "cells": [
  {
   "cell_type": "code",
   "execution_count": 2,
   "metadata": {},
   "outputs": [],
   "source": [
    "import os\n",
    "import glob                                                                 \n",
    "import numpy as np\n",
    "import xarray as xr\n",
    "from pyhdf.SD import SD, SDC\n",
    "from datetime import datetime,date,timedelta\n",
    "import rioxarray as rxr\n",
    "import geopandas as gp\n",
    "import matplotlib.pyplot as plt\n",
    "# from zmq import ctx_opt_names #for the Ploting purpose\n",
    "import time\n",
    "import pandas as pd\n",
    "\n",
    "st=time.time()"
   ]
  },
  {
   "cell_type": "code",
   "execution_count": 6,
   "metadata": {},
   "outputs": [],
   "source": [
    "os.chdir('/Volumes/ACIML/Datasets/')\n",
    "\n",
    "file='MYD08_D3.A2021060.061.2021062123734.pscs_000501889102.hdf'\n",
    "reader = open(file)\n",
    "# ds=xr.open_dataset(file)\n",
    "hdf = SD(file, SDC.READ)"
   ]
  },
  {
   "cell_type": "code",
   "execution_count": null,
   "metadata": {},
   "outputs": [],
   "source": []
  }
 ],
 "metadata": {
  "kernelspec": {
   "display_name": "CLIMATE_SCIENCE",
   "language": "python",
   "name": "python3"
  },
  "language_info": {
   "codemirror_mode": {
    "name": "ipython",
    "version": 3
   },
   "file_extension": ".py",
   "mimetype": "text/x-python",
   "name": "python",
   "nbconvert_exporter": "python",
   "pygments_lexer": "ipython3",
   "version": "3.10.6"
  },
  "orig_nbformat": 4
 },
 "nbformat": 4,
 "nbformat_minor": 2
}
