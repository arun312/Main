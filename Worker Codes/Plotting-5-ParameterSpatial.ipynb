{
 "cells": [
  {
   "cell_type": "code",
   "execution_count": 2,
   "metadata": {},
   "outputs": [],
   "source": [
    "import matplotlib.pyplot as plt\n",
    "from cartopy import config\n",
    "import cartopy.crs as ccrs\n",
    "import xarray as xr\n",
    "import numpy as np\n",
    "import geopandas as gp\n",
    "import os\n",
    "import regionmask\n",
    "\n",
    "#Prequesites\n",
    "font = {'weight' : 'bold',\n",
    "        'size'   : 16}\n",
    "plt.rcParams[\"font.family\"] = \"Times New Roman\"\n",
    "plt.rc('font', **font)\n",
    "\n",
    "min_lon = 78.00\n",
    "max_lon = 96.00\n",
    "min_lat = 8.00\n",
    "max_lat = 23.00\n"
   ]
  },
  {
   "attachments": {},
   "cell_type": "markdown",
   "metadata": {},
   "source": [
    "# Windspeed"
   ]
  },
  {
   "cell_type": "code",
   "execution_count": 76,
   "metadata": {},
   "outputs": [],
   "source": [
    "os.chdir('/Volumes/PtatoBasket/ACIML/Datasets/ERA5/')\n",
    "\n",
    "#PreMon\n",
    "file='U-Wind/PreMonDaily_Uwind850.nc'\n",
    "ds=xr.open_dataset(file)\n",
    "\n",
    "# #Clipping to shape File and Creating Mask File\n",
    "# shapefile =\"/Volumes/ACIML/Main/SHPs/BOB_OCEAN/BOB_OCEAN.shp\"\n",
    "# countries=gp.read_file(shapefile,engine='pyogrio')\n",
    "# c_list=list(countries['featurecla'])\n",
    "# c_list_unique=set(list(countries['featurecla']))\n",
    "# indexes=[c_list.index(x) for x in c_list_unique]\n",
    "# countries_mask_poly=regionmask.Regions(outlines=countries.geometry[indexes],name='featurecla',numbers=indexes,names=countries.featurecla[indexes])\n",
    "# print('It is Clipping')\n",
    "# mask=countries_mask_poly.mask(ds,lat_name='latitude',lon_name='longitude')\n",
    "# masked_shape=ds.where(mask==0)\n",
    "# ds = masked_shape.sel(latitude=slice(max_lat,min_lat), longitude=slice(min_lon,max_lon))\n",
    "\n",
    "\n",
    "u=ds.u\n",
    "\n",
    "\n",
    "file='V-Wind/PreMonDaily_Vwind850.nc'\n",
    "ds=xr.open_dataset(file)\n",
    "\n",
    "# masked_shape=ds.where(mask==0)\n",
    "# ds = masked_shape.sel(latitude=slice(max_lat,min_lat), longitude=slice(min_lon,max_lon))\n",
    "\n",
    "\n",
    "v=ds.v\n",
    "# Compute the wind speed\n",
    "wind_speed = np.sqrt(u**2 + v**2)\n",
    "wind_speedMean=wind_speed.mean(dim='time', skipna=True)\n",
    "lon,lat=wind_speedMean.indexes.values()\n"
   ]
  },
  {
   "cell_type": "code",
   "execution_count": 80,
   "metadata": {},
   "outputs": [],
   "source": [
    "#Winter\n",
    "os.chdir('/Volumes/PtatoBasket/ACIML/Datasets/ERA5/')\n",
    "file='U-Wind/WinterDaily_Uwind850.nc'\n",
    "ds=xr.open_dataset(file)\n",
    "\n",
    "# #Clipping to shape File and Creating Mask File\n",
    "# shapefile =\"/Volumes/ACIML/Main/SHPs/BOB_OCEAN/BOB_OCEAN.shp\"\n",
    "# countries=gp.read_file(shapefile,engine='pyogrio')\n",
    "# c_list=list(countries['featurecla'])\n",
    "# c_list_unique=set(list(countries['featurecla']))\n",
    "# indexes=[c_list.index(x) for x in c_list_unique]\n",
    "# countries_mask_poly=regionmask.Regions(outlines=countries.geometry[indexes],name='featurecla',numbers=indexes,names=countries.featurecla[indexes])\n",
    "# print('It is Clipping')\n",
    "# mask=countries_mask_poly.mask(ds,lat_name='latitude',lon_name='longitude')\n",
    "# masked_shape=ds.where(mask==0)\n",
    "# ds = masked_shape.sel(latitude=slice(max_lat,min_lat), longitude=slice(min_lon,max_lon))\n",
    "u=ds.u\n",
    "\n",
    "\n",
    "file='V-Wind/WinterDaily_Vwind850.nc'\n",
    "ds=xr.open_dataset(file)\n",
    "# masked_shape=ds.where(mask==0)\n",
    "# ds = masked_shape.sel(latitude=slice(max_lat,min_lat), longitude=slice(min_lon,max_lon))\n",
    "\n",
    "v=ds.v\n",
    "# Compute the wind speed\n",
    "wind_speed = np.sqrt(u**2 + v**2)\n",
    "wind_speedMean=wind_speed.mean(dim='time', skipna=True)\n",
    "lon,lat=wind_speedMean.indexes.values()\n",
    "\n"
   ]
  },
  {
   "attachments": {},
   "cell_type": "markdown",
   "metadata": {},
   "source": [
    "# RelativeHumidity Average"
   ]
  },
  {
   "cell_type": "code",
   "execution_count": 40,
   "metadata": {},
   "outputs": [],
   "source": [
    "os.chdir('/Volumes/PtatoBasket/ACIML/Datasets/ERA-5 RH/')\n",
    "\n",
    "#PreMon\n",
    "file='PreMon/PreMonDaily_RHavg.nc'\n",
    "ds=xr.open_dataset(file)\n",
    "RH=ds.r\n",
    "RHMean=RH.mean(dim='time', skipna=True)\n",
    "lon,lat=RHMean.indexes.values()"
   ]
  },
  {
   "cell_type": "code",
   "execution_count": 42,
   "metadata": {},
   "outputs": [],
   "source": [
    "#Winter\n",
    "file='Winter/WinterDaily_RHavg.nc'\n",
    "ds=xr.open_dataset(file)\n",
    "RH=ds.r\n",
    "RHMean=RH.mean(dim='time', skipna=True)\n",
    "lon,lat=RHMean.indexes.values()"
   ]
  },
  {
   "attachments": {},
   "cell_type": "markdown",
   "metadata": {},
   "source": [
    "# PBLH"
   ]
  },
  {
   "cell_type": "code",
   "execution_count": 12,
   "metadata": {},
   "outputs": [],
   "source": [
    "os.chdir('/Volumes/PtatoBasket/ACIML/Datasets/PBLH/')\n",
    "#unit - m\n",
    "#PreMon\n",
    "file='PreMonDaily_PBLH.nc'\n",
    "ds=xr.open_dataset(file)\n",
    "PBLH=ds.TCZPBL\n",
    "PBLHMean=PBLH.mean(dim='time', skipna=True)\n",
    "lat,lon=PBLHMean.indexes.values()"
   ]
  },
  {
   "cell_type": "code",
   "execution_count": 14,
   "metadata": {},
   "outputs": [],
   "source": [
    "os.chdir('/Volumes/PtatoBasket/ACIML/Datasets/PBLH/')\n",
    "\n",
    "#Winter\n",
    "file='WinterDaily_PBLH.nc'\n",
    "ds=xr.open_dataset(file)\n",
    "PBLH=ds.TCZPBL\n",
    "PBLHMean=PBLH.mean(dim='time', skipna=True)\n",
    "lon,lat=PBLHMean.indexes.values()"
   ]
  },
  {
   "attachments": {},
   "cell_type": "markdown",
   "metadata": {},
   "source": [
    "# Vertical Velocity"
   ]
  },
  {
   "cell_type": "code",
   "execution_count": 26,
   "metadata": {},
   "outputs": [],
   "source": [
    "os.chdir('/Volumes/PtatoBasket/ACIML/Datasets/ERA5/VerticalVelocity/')\n",
    "\n",
    "#PreMon\n",
    "file='PreMonDaily_VerticalVelocity.nc'\n",
    "ds=xr.open_dataset(file)\n",
    "W=ds.w\n",
    "WMean=W.mean(dim='time', skipna=True)\n",
    "lon,lat=WMean.indexes.values()"
   ]
  },
  {
   "cell_type": "code",
   "execution_count": 29,
   "metadata": {},
   "outputs": [],
   "source": [
    "os.chdir('/Volumes/PtatoBasket/ACIML/Datasets/ERA5/VerticalVelocity/')\n",
    "\n",
    "#Winter\n",
    "file='WinterDaily_VerticalVelocity.nc'\n",
    "ds=xr.open_dataset(file)\n",
    "W=ds.w\n",
    "WMean=W.mean(dim='time', skipna=True)\n",
    "lon,lat=WMean.indexes.values()"
   ]
  },
  {
   "attachments": {},
   "cell_type": "markdown",
   "metadata": {},
   "source": [
    "# AODs"
   ]
  },
  {
   "cell_type": "code",
   "execution_count": 67,
   "metadata": {},
   "outputs": [],
   "source": [
    "#PreMon\n",
    "os.chdir('/Volumes/PtatoBasket/ACIML/Datasets/MERRA2/')\n",
    "file='Composites/N_MERRA-PreMon.nc'\n",
    "ds=xr.open_dataset(file)\n",
    "\n",
    "ANANOD=ds.BC_AOD+ds.OC_AOD+ds.SULFATE_AOD\n",
    "OGAOD=ds.SEASALT_AOD+ds.DUST_AOD\n",
    "\n",
    "ANANODMean=ANANOD.mean(dim='time', skipna=True)\n",
    "OGAODMean=OGAOD.mean(dim='time', skipna=True)\n",
    "lat,lon,time=ds.indexes.values()"
   ]
  },
  {
   "cell_type": "code",
   "execution_count": 71,
   "metadata": {},
   "outputs": [],
   "source": [
    "#Winter\n",
    "os.chdir('/Volumes/PtatoBasket/ACIML/Datasets/MERRA2/')\n",
    "file='Composites/N_MERRA-Winter.nc'\n",
    "ds=xr.open_dataset(file)\n",
    "\n",
    "ANANOD=ds.BC_AOD+ds.OC_AOD+ds.SULFATE_AOD\n",
    "OGAOD=ds.SEASALT_AOD+ds.DUST_AOD\n",
    "\n",
    "ANANODMean=ANANOD.mean(dim='time', skipna=True)\n",
    "OGAODMean=OGAOD.mean(dim='time', skipna=True)\n",
    "lat,lon,time=ds.indexes.values()"
   ]
  },
  {
   "attachments": {},
   "cell_type": "markdown",
   "metadata": {},
   "source": [
    "# AI"
   ]
  },
  {
   "cell_type": "code",
   "execution_count": 73,
   "metadata": {},
   "outputs": [],
   "source": [
    "os.chdir('/Volumes/PtatoBasket/ACIML/Datasets/MERRA2/')\n",
    "\n",
    "#PreMon\n",
    "file='MERRA-PreMon.nc'\n",
    "ds=xr.open_dataset(file)\n",
    "AI=ds.AI\n",
    "AIMean=AI.mean(dim='time', skipna=True)\n",
    "lat,lon=AIMean.indexes.values()"
   ]
  },
  {
   "cell_type": "code",
   "execution_count": 74,
   "metadata": {},
   "outputs": [],
   "source": [
    "\n",
    "#Winter\n",
    "file='MERRA-Winter.nc'\n",
    "ds=xr.open_dataset(file)\n",
    "AI=ds.AI\n",
    "AIMean=AI.mean(dim='time', skipna=True)\n",
    "lat,lon=AIMean.indexes.values()"
   ]
  },
  {
   "attachments": {},
   "cell_type": "markdown",
   "metadata": {},
   "source": [
    "# Atmospheric WaterVapour\n"
   ]
  },
  {
   "cell_type": "code",
   "execution_count": 105,
   "metadata": {},
   "outputs": [],
   "source": [
    "os.chdir('/Volumes/PtatoBasket/ACIML/Datasets/PrecipitableWater-MODIS/')\n",
    "\n",
    "#PreMon\n",
    "file='PreMonDaily_PrecipWater.nc'\n",
    "ds=xr.open_dataset(file)\n",
    "WV=ds.Atmospheric_Water_Vapor_QA_Mean\n",
    "WVMean=WV.mean(dim='time', skipna=True)\n",
    "lon,lat=WVMean.indexes.values()"
   ]
  },
  {
   "cell_type": "code",
   "execution_count": 107,
   "metadata": {},
   "outputs": [],
   "source": [
    "os.chdir('/Volumes/PtatoBasket/ACIML/Datasets/PrecipitableWater-MODIS/')\n",
    "\n",
    "#Winter\n",
    "file='WinterDaily_PrecipWater.nc'\n",
    "ds=xr.open_dataset(file)\n",
    "WV=ds.Atmospheric_Water_Vapor_QA_Mean\n",
    "WVMean=WV.mean(dim='time', skipna=True)\n",
    "lon,lat=WVMean.indexes.values()"
   ]
  },
  {
   "attachments": {},
   "cell_type": "markdown",
   "metadata": {},
   "source": [
    "# LTS"
   ]
  },
  {
   "cell_type": "code",
   "execution_count": 113,
   "metadata": {},
   "outputs": [],
   "source": [
    "#Clipping to shape File and Creating Mask File\n",
    "shapefile =\"/Volumes/ACIML/Main/SHPs/BOB_OCEAN/BOB_OCEAN.shp\"\n",
    "countries=gp.read_file(shapefile,engine='pyogrio')\n",
    "c_list=list(countries['featurecla'])\n",
    "c_list_unique=set(list(countries['featurecla']))\n",
    "indexes=[c_list.index(x) for x in c_list_unique]\n",
    "countries_mask_poly=regionmask.Regions(outlines=countries.geometry[indexes],name='featurecla',numbers=indexes,names=countries.featurecla[indexes])\n",
    "# print('It is Clipping')\n"
   ]
  },
  {
   "cell_type": "code",
   "execution_count": 123,
   "metadata": {},
   "outputs": [],
   "source": [
    "os.chdir('/Volumes/PtatoBasket/ACIML/Datasets/ERA5/LTS')\n",
    "\n",
    "#PreMon\n",
    "file='PreMonDaily_LTS.nc'\n",
    "ds=xr.open_dataset(file)\n",
    "mask=countries_mask_poly.mask(ds,lat_name='latitude',lon_name='longitude')\n",
    "masked_shape=ds.where(mask==0)\n",
    "ds = masked_shape.sel(latitude=slice(max_lat,min_lat), longitude=slice(min_lon,max_lon))\n",
    "LTS=ds.t\n",
    "LTSMean=LTS.mean(dim='time', skipna=True)\n",
    "lon,lat=LTSMean.indexes.values()"
   ]
  },
  {
   "cell_type": "code",
   "execution_count": 125,
   "metadata": {},
   "outputs": [],
   "source": [
    "os.chdir('/Volumes/PtatoBasket/ACIML/Datasets/ERA5/LTS')\n",
    "\n",
    "#Winter\n",
    "file='WinterDaily_LTS.nc'\n",
    "ds=xr.open_dataset(file)\n",
    "mask=countries_mask_poly.mask(ds,lat_name='latitude',lon_name='longitude')\n",
    "masked_shape=ds.where(mask==0)\n",
    "ds = masked_shape.sel(latitude=slice(max_lat,min_lat), longitude=slice(min_lon,max_lon))\n",
    "LTS=ds.t\n",
    "LTSMean=LTS.mean(dim='time', skipna=True)\n",
    "lon,lat=LTSMean.indexes.values()"
   ]
  },
  {
   "attachments": {},
   "cell_type": "markdown",
   "metadata": {},
   "source": [
    "# Plotter"
   ]
  },
  {
   "cell_type": "code",
   "execution_count": 126,
   "metadata": {},
   "outputs": [
    {
     "data": {
      "image/png": "[encoded data removed]",
      "text/plain": [
       "<Figure size 640x480 with 2 Axes>"
      ]
     },
     "metadata": {},
     "output_type": "display_data"
    },
    {
     "data": {
      "text/plain": [
       "<Figure size 640x480 with 0 Axes>"
      ]
     },
     "metadata": {},
     "output_type": "display_data"
    }
   ],
   "source": [
    "os.chdir('/Volumes/ACIML/Main/')\n",
    "\n",
    "vmin=12\n",
    "vmax=17\n",
    "\n",
    "# data=wind_speedMean\n",
    "# name='MeanWind-Winter'\n",
    "\n",
    "# data=RHMean\n",
    "# name='RealtiveHumidity-Winter'\n",
    "\n",
    "# data=PBLHMean\n",
    "# name='PBLH-Winter'\n",
    "\n",
    "# data=WMean\n",
    "# name='VerticalVelocity-Winter'\n",
    "\n",
    "# data=OGAODMean\n",
    "# name='OrganicAOD - Winter'\n",
    "\n",
    "# data=WVMean\n",
    "# name='Atmospheric Water Vapor - Winter'\n",
    "\n",
    "\n",
    "data=LTSMean\n",
    "name='LTS - Winter'\n",
    "\n",
    "\n",
    "ax = plt.axes(projection=ccrs.PlateCarree())\n",
    "\n",
    "plt.pcolor(lon, lat, data,\n",
    "            transform=ccrs.PlateCarree(),cmap='jet',vmax=vmax,vmin=vmin)\n",
    "plt.colorbar()    \n",
    "\n",
    "plt.contourf(lon, lat, data,60,\n",
    "            transform=ccrs.PlateCarree(),cmap='jet',vmax=vmax,vmin=vmin)\n",
    "\n",
    "\n",
    "# ,vmax=vmax,vmin=vmin\n",
    "plt.title(name)\n",
    "ax.coastlines()\n",
    "gridlines = ax.gridlines(draw_labels=True,linewidth=0)\n",
    "gridlines.top_labels = False\n",
    "gridlines.right_labels = False\n",
    "gridlines.bottom_labels=False\n",
    "\n",
    "\n",
    "major_tick = [80,84,88,92,96]\n",
    "minor_tick = [78,82,86,90,94]\n",
    "ax.set_xticks(minor_tick) # Grid\n",
    "ax.set_xticks(major_tick, minor=True)\n",
    "\n",
    "major_tick1 = ['78°E','82°E','86°E','90°E','94°E']\n",
    "ax.set_xticklabels(major_tick1) # Grid\n",
    "\n",
    " \n",
    "#INCLUDE FOR WIND ONLY\n",
    "# u=u.mean(dim='time', skipna=True)\n",
    "# v=v.mean(dim='time', skipna=True)\n",
    "# #Making Alternative Grid nana to make it less populated\n",
    "# u[::2,::2]=np.nan\n",
    "# u[1::2,1::2]=np.nan\n",
    "\n",
    "# v[::2,::2]=np.nan\n",
    "# v[1::2,1::2]=np.nan\n",
    "# # ax.quiver(lon, lat, u, v,units='xy', scale=10, color='black',width =0.025,headwidth=6,headlength=8)\n",
    "\n",
    "# ax.set_facecolor(\"black\")\n",
    "plt.savefig(name+'.png',dpi=300)\n",
    "# # ax.legend()\n",
    "\n",
    "plt.show()\n",
    "plt.clf()\n"
   ]
  },
  {
   "cell_type": "code",
   "execution_count": null,
   "metadata": {},
   "outputs": [],
   "source": []
  }
 ],
 "metadata": {
  "kernelspec": {
   "display_name": "CLIMATE_SCIENCE",
   "language": "python",
   "name": "python3"
  },
  "language_info": {
   "codemirror_mode": {
    "name": "ipython",
    "version": 3
   },
   "file_extension": ".py",
   "mimetype": "text/x-python",
   "name": "python",
   "nbconvert_exporter": "python",
   "pygments_lexer": "ipython3",
   "version": "3.10.6"
  },
  "orig_nbformat": 4
 },
 "nbformat": 4,
 "nbformat_minor": 2
}
